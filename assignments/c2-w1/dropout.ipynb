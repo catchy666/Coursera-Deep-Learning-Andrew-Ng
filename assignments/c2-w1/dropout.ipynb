{
 "cells": [
  {
   "cell_type": "code",
   "execution_count": 1,
   "metadata": {
    "collapsed": true
   },
   "outputs": [],
   "source": [
    "import numpy as np"
   ]
  },
  {
   "cell_type": "code",
   "execution_count": 2,
   "outputs": [
    {
     "name": "stdout",
     "output_type": "stream",
     "text": [
      "al: [[ 0.82418808  0.479966    1.17346801]\n",
      " [ 0.90904807 -0.57172145 -0.10949727]\n",
      " [ 0.01902826 -0.94376106  0.64057315]\n",
      " [-0.78644317  0.60886999 -0.93101185]] \n",
      "\n",
      "dl: [[0.29322811 0.77447945 0.00510884]\n",
      " [0.11285765 0.11095367 0.24766823]\n",
      " [0.0232363  0.72732115 0.34003494]\n",
      " [0.19750316 0.90917959 0.97834699]]\n"
     ]
    }
   ],
   "source": [
    "np.random.seed(666)  # set random seed\n",
    "\n",
    "al = np.random.randn(4, 3)\n",
    "print(\"al: {} \\n\".format(al))\n",
    "\n",
    "# 对第 l 层进行dropout\n",
    "keep_prob = 0.8\n",
    "dl = np.random.rand(al.shape[0], al.shape[1])\n",
    "print(\"dl: {}\".format(dl))"
   ],
   "metadata": {
    "collapsed": false,
    "pycharm": {
     "name": "#%%\n"
    }
   }
  },
  {
   "cell_type": "code",
   "execution_count": 3,
   "outputs": [
    {
     "name": "stdout",
     "output_type": "stream",
     "text": [
      "dl: [[ True  True  True]\n",
      " [ True  True  True]\n",
      " [ True  True  True]\n",
      " [ True False False]]\n"
     ]
    }
   ],
   "source": [
    "dl = dl < keep_prob\n",
    "print(\"dl: {}\".format(dl))"
   ],
   "metadata": {
    "collapsed": false,
    "pycharm": {
     "name": "#%%\n"
    }
   }
  },
  {
   "cell_type": "code",
   "execution_count": 4,
   "outputs": [
    {
     "name": "stdout",
     "output_type": "stream",
     "text": [
      "al: [[ 0.82418808  0.479966    1.17346801]\n",
      " [ 0.90904807 -0.57172145 -0.10949727]\n",
      " [ 0.01902826 -0.94376106  0.64057315]\n",
      " [-0.78644317  0.         -0.        ]]\n"
     ]
    }
   ],
   "source": [
    "al = np.multiply(al, dl)\n",
    "print(\"al: {}\".format(al))"
   ],
   "metadata": {
    "collapsed": false,
    "pycharm": {
     "name": "#%%\n"
    }
   }
  },
  {
   "cell_type": "code",
   "execution_count": 4,
   "outputs": [],
   "source": [],
   "metadata": {
    "collapsed": false,
    "pycharm": {
     "name": "#%%\n"
    }
   }
  }
 ],
 "metadata": {
  "kernelspec": {
   "display_name": "Python 3",
   "language": "python",
   "name": "python3"
  },
  "language_info": {
   "codemirror_mode": {
    "name": "ipython",
    "version": 2
   },
   "file_extension": ".py",
   "mimetype": "text/x-python",
   "name": "python",
   "nbconvert_exporter": "python",
   "pygments_lexer": "ipython2",
   "version": "2.7.6"
  }
 },
 "nbformat": 4,
 "nbformat_minor": 0
}