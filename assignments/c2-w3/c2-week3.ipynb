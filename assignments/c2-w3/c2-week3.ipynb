{
 "cells": [
  {
   "cell_type": "markdown",
   "source": [
    "作业原地址：[https://blog.csdn.net/u013733326/article/details/79971488](https://blog.csdn.net/u013733326/article/details/79971488)"
   ],
   "metadata": {
    "collapsed": false,
    "pycharm": {
     "name": "#%% md\n"
    }
   }
  },
  {
   "cell_type": "code",
   "execution_count": 1,
   "metadata": {
    "collapsed": true
   },
   "outputs": [],
   "source": [
    "import numpy as np\n",
    "import h5py\n",
    "import matplotlib.pyplot as plt\n",
    "import tensorflow as tf\n",
    "from tensorflow.python.framework import ops\n",
    "import tf_utils\n",
    "import time\n",
    "\n",
    "np.random.seed(1)"
   ]
  },
  {
   "cell_type": "code",
   "execution_count": 2,
   "outputs": [
    {
     "name": "stdout",
     "output_type": "stream",
     "text": [
      "9\n"
     ]
    }
   ],
   "source": [
    "y_hat = tf.constant(36, name='y_hat')\n",
    "y = tf.constant(39, name='y')\n",
    "\n",
    "loss = tf.Variable((y - y_hat) ** 2, name='loss') # 为损失函数创建一个变量\n",
    "\n",
    "init = tf.global_variables_initializer()  # 运行之后的初始化(ession.run(init))\n",
    "                                          #损失变量将被初始化并准备计算\n",
    "with tf.Session() as session: # 创建一个session并打印输出\n",
    "    session.run(init)\n",
    "    print(session.run(loss))"
   ],
   "metadata": {
    "collapsed": false,
    "pycharm": {
     "name": "#%%\n"
    }
   }
  },
  {
   "cell_type": "code",
   "execution_count": 3,
   "outputs": [
    {
     "name": "stdout",
     "output_type": "stream",
     "text": [
      "Tensor(\"Mul:0\", shape=(), dtype=int32)\n"
     ]
    }
   ],
   "source": [
    "a = tf.constant(2)\n",
    "b = tf.constant(10)\n",
    "c = tf.multiply(a, b)\n",
    "\n",
    "print(c)"
   ],
   "metadata": {
    "collapsed": false,
    "pycharm": {
     "name": "#%%\n"
    }
   }
  },
  {
   "cell_type": "code",
   "execution_count": 4,
   "outputs": [
    {
     "name": "stdout",
     "output_type": "stream",
     "text": [
      "20\n"
     ]
    }
   ],
   "source": [
    "sess = tf.Session()\n",
    "print(sess.run(c))"
   ],
   "metadata": {
    "collapsed": false,
    "pycharm": {
     "name": "#%%\n"
    }
   }
  },
  {
   "cell_type": "code",
   "execution_count": 5,
   "outputs": [
    {
     "name": "stdout",
     "output_type": "stream",
     "text": [
      "6\n"
     ]
    }
   ],
   "source": [
    "# 利用feed_dict来改变x的值\n",
    "\n",
    "x = tf.placeholder(tf.int64, name='x')\n",
    "print(sess.run(2 * x, feed_dict={x: 3}))\n",
    "sess.close()\n",
    "# 当我们第一次定义x时，我们不必为它指定一个值。 占位符只是一个变量，我们会在运行会话时将数据分配给它。"
   ],
   "metadata": {
    "collapsed": false,
    "pycharm": {
     "name": "#%%\n"
    }
   }
  },
  {
   "cell_type": "code",
   "execution_count": 11,
   "outputs": [],
   "source": [
    "def linear_function():\n",
    "    \"\"\"\n",
    "    实现一个线性功能：\n",
    "        初始化W，类型为tensor的随机变量，维度为(4, 3)\n",
    "        初始化X，类型为tensor的随机变量，维度为(3, 1)\n",
    "        初始化b，类型为tensor的随机变量，维度为(4, 1)\n",
    "    :return:\n",
    "        result - 运行了session后的结果，运行的是Y=WX+b\n",
    "    \"\"\"\n",
    "\n",
    "    np. random.seed(1) # 指定随机种子\n",
    "    X = np.random.randn(3, 1)\n",
    "    W = np.random.randn(4, 3)\n",
    "    b = np.random.randn(4, 1)\n",
    "\n",
    "    Y = tf.add(tf.matmul(W, X), b) # tf.matmul是矩阵乘法\n",
    "\n",
    "    # 创建一个session并运行它\n",
    "    sess = tf.Session()\n",
    "    result = sess.run(Y)\n",
    "\n",
    "    # session使用完毕，关闭它\n",
    "    sess.close()\n",
    "\n",
    "    return result"
   ],
   "metadata": {
    "collapsed": false,
    "pycharm": {
     "name": "#%%\n"
    }
   }
  },
  {
   "cell_type": "code",
   "execution_count": 12,
   "outputs": [
    {
     "name": "stdout",
     "output_type": "stream",
     "text": [
      "result = [[-2.15657382]\n",
      " [ 2.95891446]\n",
      " [-1.08926781]\n",
      " [-0.84538042]]\n"
     ]
    }
   ],
   "source": [
    "print(\"result = {}\".format(linear_function()))"
   ],
   "metadata": {
    "collapsed": false,
    "pycharm": {
     "name": "#%%\n"
    }
   }
  },
  {
   "cell_type": "code",
   "execution_count": 14,
   "outputs": [],
   "source": [
    "def sigmoid(z):\n",
    "    \"\"\"\n",
    "    实现使用sigmoid函数计算z\n",
    "    :param z: 输入的值，标量or矢量\n",
    "    :return:\n",
    "        result 用sigmoid计算z的值\n",
    "    \"\"\"\n",
    "    # 创建一个占位符x，名字叫'x'\n",
    "    x = tf.placeholder(tf.float32, name='x')\n",
    "\n",
    "    # 计算sigmoid(z)\n",
    "    sigmoid = tf.sigmoid(x)\n",
    "\n",
    "    # 创建一个会话\n",
    "    with tf.Session() as sess:\n",
    "        result = sess.run(sigmoid, feed_dict={x: z})\n",
    "\n",
    "    return result"
   ],
   "metadata": {
    "collapsed": false,
    "pycharm": {
     "name": "#%%\n"
    }
   }
  },
  {
   "cell_type": "code",
   "execution_count": 15,
   "outputs": [
    {
     "name": "stdout",
     "output_type": "stream",
     "text": [
      "sigmoid(0) = 0.5\n",
      "sigmoid(12) = 0.9999938011169434\n"
     ]
    }
   ],
   "source": [
    "print(\"sigmoid(0) = {}\".format(sigmoid(0)))\n",
    "print(\"sigmoid(12) = {}\".format(sigmoid(12)))"
   ],
   "metadata": {
    "collapsed": false,
    "pycharm": {
     "name": "#%%\n"
    }
   }
  },
  {
   "cell_type": "code",
   "execution_count": 16,
   "outputs": [],
   "source": [
    "def one_hot_matrix(labels, C):\n",
    "    \"\"\"\n",
    "    创建一个矩阵，其中第i行对应第i个类号，第j列对应第j个训练样本\n",
    "    所以如果第j个样本对应着第i个标签，那么entry (i,j)将会是1\n",
    "    :param labels: 标签向量\n",
    "    :param C: 类别数\n",
    "    :return:\n",
    "        one_hot 独热矩阵\n",
    "    \"\"\"\n",
    "\n",
    "    # 创建一个tf.constant，赋值为C，名字为C\n",
    "    C = tf.constant(C, name='C')\n",
    "\n",
    "    # 使用tf.one_hot，注意下axis\n",
    "    one_hot_matrix = tf.one_hot(indices=labels, depth=C, axis=0)\n",
    "\n",
    "    # 创建一个session\n",
    "    with tf.Session() as sess:\n",
    "        one_hot = sess.run(one_hot_matrix)\n",
    "\n",
    "    return one_hot"
   ],
   "metadata": {
    "collapsed": false,
    "pycharm": {
     "name": "#%%\n"
    }
   }
  },
  {
   "cell_type": "code",
   "execution_count": 17,
   "outputs": [
    {
     "name": "stdout",
     "output_type": "stream",
     "text": [
      "[[0. 0. 0. 1. 0. 0.]\n",
      " [1. 0. 0. 0. 0. 1.]\n",
      " [0. 1. 0. 0. 1. 0.]\n",
      " [0. 0. 1. 0. 0. 0.]]\n"
     ]
    }
   ],
   "source": [
    "labels = np.array([1, 2, 3, 0, 2, 1])\n",
    "one_hot = one_hot_matrix(labels, C=4)\n",
    "print(one_hot)"
   ],
   "metadata": {
    "collapsed": false,
    "pycharm": {
     "name": "#%%\n"
    }
   }
  },
  {
   "cell_type": "code",
   "execution_count": 18,
   "outputs": [],
   "source": [
    "def ones(shape):\n",
    "    \"\"\"\n",
    "    创建一个维度为shape的变量，其值全为1\n",
    "    :param shape: 你要创建的数组的维度\n",
    "    :return:\n",
    "        ones 只包含1的数组\n",
    "    \"\"\"\n",
    "\n",
    "    # 使用tf.ones()\n",
    "    ones = tf.ones(shape)\n",
    "\n",
    "    # 创建会话\n",
    "    with tf.Session() as sess:\n",
    "        ones = sess.run(ones)\n",
    "\n",
    "    return ones"
   ],
   "metadata": {
    "collapsed": false,
    "pycharm": {
     "name": "#%%\n"
    }
   }
  },
  {
   "cell_type": "code",
   "execution_count": 20,
   "outputs": [
    {
     "name": "stdout",
     "output_type": "stream",
     "text": [
      "ones = [[1. 1.]\n",
      " [1. 1.]\n",
      " [1. 1.]]\n"
     ]
    }
   ],
   "source": [
    "print (\"ones = {}\".format(str(ones((3, 2)))))"
   ],
   "metadata": {
    "collapsed": false,
    "pycharm": {
     "name": "#%%\n"
    }
   }
  },
  {
   "cell_type": "markdown",
   "source": [
    "### 使用TensorFlow构建你的第一个神经网络\n",
    "我们将会使用TensorFlow构建一个神经网络，需要记住的是实现模型需要做以下两个步骤：\n",
    "\n",
    " 1. 创建计算图\n",
    " 2. 运行计算图"
   ],
   "metadata": {
    "collapsed": false,
    "pycharm": {
     "name": "#%% md\n"
    }
   }
  },
  {
   "cell_type": "code",
   "execution_count": 21,
   "outputs": [],
   "source": [
    "# load dataset\n",
    "X_train_orig, \\\n",
    "Y_train_orig, \\\n",
    "X_test_orig,\\\n",
    "Y_test_orig, \\\n",
    "classes = tf_utils.load_dataset()"
   ],
   "metadata": {
    "collapsed": false,
    "pycharm": {
     "name": "#%%\n"
    }
   }
  },
  {
   "cell_type": "code",
   "execution_count": 22,
   "outputs": [
    {
     "name": "stdout",
     "output_type": "stream",
     "text": [
      "Y = 0\n"
     ]
    },
    {
     "data": {
      "text/plain": "<Figure size 432x288 with 1 Axes>",
      "image/png": "[encoded data removed]"
     },
     "metadata": {
      "needs_background": "light"
     },
     "output_type": "display_data"
    }
   ],
   "source": [
    "index = 66\n",
    "plt.imshow(X_train_orig[index])\n",
    "print('Y = {}'.format(np.squeeze(Y_train_orig[:, index])))"
   ],
   "metadata": {
    "collapsed": false,
    "pycharm": {
     "name": "#%%\n"
    }
   }
  },
  {
   "cell_type": "code",
   "execution_count": 23,
   "outputs": [
    {
     "name": "stdout",
     "output_type": "stream",
     "text": [
      "训练集样本数 = 1080\n",
      "测试集样本数 = 120\n",
      "X_train.shape: (12288, 1080)\n",
      "Y_train.shape: (6, 1080)\n",
      "X_test.shape: (12288, 120)\n",
      "Y_test.shape: (6, 120)\n"
     ]
    }
   ],
   "source": [
    "# flatten, normalization\n",
    "X_train_flatten = X_train_orig.reshape(X_train_orig.shape[0], -1).T\n",
    "X_test_flatten = X_test_orig.reshape(X_test_orig.shape[0], -1).T\n",
    "\n",
    "# Normalization\n",
    "X_train = X_train_flatten / 255\n",
    "X_test = X_test_flatten / 255\n",
    "\n",
    "# convert to one-hot\n",
    "Y_train = tf_utils.convert_to_one_hot(Y_train_orig, C=6)\n",
    "Y_test = tf_utils.convert_to_one_hot(Y_test_orig, C=6)\n",
    "\n",
    "print(\"训练集样本数 = \" + str(X_train.shape[1]))\n",
    "print(\"测试集样本数 = \" + str(X_test.shape[1]))\n",
    "print(\"X_train.shape: \" + str(X_train.shape))\n",
    "print(\"Y_train.shape: \" + str(Y_train.shape))\n",
    "print(\"X_test.shape: \" + str(X_test.shape))\n",
    "print(\"Y_test.shape: \" + str(Y_test.shape))"
   ],
   "metadata": {
    "collapsed": false,
    "pycharm": {
     "name": "#%%\n"
    }
   }
  },
  {
   "cell_type": "code",
   "execution_count": 24,
   "outputs": [],
   "source": [
    "def create_placeholders(n_x, n_y):\n",
    "    \"\"\"\n",
    "    为TensorFlow会话创建占位符\n",
    "    :param n_x: 一个实数，图片向量的大小（64*64*3 = 12288）\n",
    "    :param n_y: 一个实数，分类数（从0到5，所以n_y = 6）\n",
    "    :return:\n",
    "        X - 一个数据输入的占位符，维度为[n_x, None]，dtype = \"float\"\n",
    "        Y - 一个对应输入的标签的占位符，维度为[n_Y,None]，dtype = \"float\"\n",
    "\n",
    "    提示：\n",
    "        使用None，因为它让我们可以灵活处理占位符提供的样本数量。事实上，测试/训练期间的样本数量是不同的。\n",
    "    \"\"\"\n",
    "\n",
    "    X = tf.placeholder(tf.float32, [n_x, None], name='X')\n",
    "    Y = tf.placeholder(tf.float32, [n_y, None], name='Y')\n",
    "\n",
    "    return X, Y"
   ],
   "metadata": {
    "collapsed": false,
    "pycharm": {
     "name": "#%%\n"
    }
   }
  },
  {
   "cell_type": "code",
   "execution_count": 25,
   "outputs": [
    {
     "name": "stdout",
     "output_type": "stream",
     "text": [
      "X = Tensor(\"X_3:0\", shape=(12288, ?), dtype=float32)\n",
      "Y = Tensor(\"Y_1:0\", shape=(6, ?), dtype=float32)\n"
     ]
    }
   ],
   "source": [
    "X, Y = create_placeholders(12288, 6)\n",
    "print(\"X = {}\".format(X))\n",
    "print(\"Y = {}\".format(Y))"
   ],
   "metadata": {
    "collapsed": false,
    "pycharm": {
     "name": "#%%\n"
    }
   }
  },
  {
   "cell_type": "code",
   "execution_count": 26,
   "outputs": [],
   "source": [
    "def initialize_parameters():\n",
    "    \"\"\"\n",
    "    初始化神经网络的参数，参数的维度如下：\n",
    "        W1 : [25, 12288]\n",
    "        b1 : [25, 1]\n",
    "        W2 : [12, 25]\n",
    "        b2 : [12, 1]\n",
    "        W3 : [6, 12]\n",
    "        b3 : [6, 1]\n",
    "    :return:\n",
    "        parameters - 包含了W和b的字典\n",
    "    \"\"\"\n",
    "    tf.set_random_seed(1) # random seed\n",
    "\n",
    "    W1 = tf.get_variable(\"W1\", [25, 12288], initializer=tf.initializers.glorot_uniform(seed=1))\n",
    "    b1 = tf.get_variable(\"b1\", [25, 1], initializer=tf.zeros_initializer())\n",
    "    W2 = tf.get_variable(\"W2\", [12, 25], initializer=tf.initializers.glorot_uniform(seed=1))\n",
    "    b2 = tf.get_variable(\"b2\", [12, 1], initializer=tf.zeros_initializer())\n",
    "    W3 = tf.get_variable(\"W3\", [6, 12], initializer=tf.initializers.glorot_uniform(seed=1))\n",
    "    b3 = tf.get_variable(\"b3\", [6, 1], initializer=tf.zeros_initializer())\n",
    "\n",
    "    parameters = {\n",
    "        \"W1\": W1,\n",
    "        \"b1\": b1,\n",
    "        \"W2\": W2,\n",
    "        \"b2\": b2,\n",
    "        \"W3\": W3,\n",
    "        \"b3\": b3}\n",
    "\n",
    "    return parameters"
   ],
   "metadata": {
    "collapsed": false,
    "pycharm": {
     "name": "#%%\n"
    }
   }
  },
  {
   "cell_type": "code",
   "execution_count": 27,
   "outputs": [
    {
     "name": "stdout",
     "output_type": "stream",
     "text": [
      "W1 = <tf.Variable 'W1:0' shape=(25, 12288) dtype=float32_ref>\n",
      "b1 = <tf.Variable 'b1:0' shape=(25, 1) dtype=float32_ref>\n",
      "W2 = <tf.Variable 'W2:0' shape=(12, 25) dtype=float32_ref>\n",
      "b2 = <tf.Variable 'b2:0' shape=(12, 1) dtype=float32_ref>\n"
     ]
    }
   ],
   "source": [
    "tf.reset_default_graph()  # 用于清除默认图形堆栈并重置全局默认图形。\n",
    "\n",
    "with tf.Session() as sess:\n",
    "    parameters = initialize_parameters()\n",
    "    print(\"W1 = \" + str(parameters[\"W1\"]))\n",
    "    print(\"b1 = \" + str(parameters[\"b1\"]))\n",
    "    print(\"W2 = \" + str(parameters[\"W2\"]))\n",
    "    print(\"b2 = \" + str(parameters[\"b2\"]))"
   ],
   "metadata": {
    "collapsed": false,
    "pycharm": {
     "name": "#%%\n"
    }
   }
  },
  {
   "cell_type": "code",
   "execution_count": 28,
   "outputs": [],
   "source": [
    "def forward_propagation(X, parameters):\n",
    "    \"\"\"\n",
    "    实现一个模型的前向传播，模型结构为LINEAR -> RELU -> LINEAR -> RELU -> LINEAR -> SOFTMAX\n",
    "    :param X: 输入数据的占位符，维度为（输入节点数量，样本数量）\n",
    "    :param parameters: 包含了W和b的参数的字典\n",
    "    :return:\n",
    "        Z3 - 最后一个线性节点output\n",
    "    \"\"\"\n",
    "\n",
    "    W1 = parameters['W1']\n",
    "    b1 = parameters['b1']\n",
    "    W2 = parameters['W2']\n",
    "    b2 = parameters['b2']\n",
    "    W3 = parameters['W3']\n",
    "    b3 = parameters['b3']\n",
    "\n",
    "    Z1 = tf.add(tf.matmul(W1, X), b1) # Z1 = np.dot(W1, X) + b1\n",
    "    A1 = tf.nn.relu(Z1) # A1 = relu(Z1)\n",
    "    Z2 = tf.add(tf.matmul(W2, A1), b2) # Z2 = np.dot(W2, a1) + b2\n",
    "    A2 = tf.nn.relu(Z2) # A2 = relu(Z2)\n",
    "    Z3 = tf.add(tf.matmul(W3, A2), b3) # Z3 = np.dot(W3,Z2) + b3\n",
    "\n",
    "    return Z3"
   ],
   "metadata": {
    "collapsed": false,
    "pycharm": {
     "name": "#%%\n"
    }
   }
  },
  {
   "cell_type": "code",
   "execution_count": 29,
   "outputs": [
    {
     "name": "stdout",
     "output_type": "stream",
     "text": [
      "Z3 = Tensor(\"Add_2:0\", shape=(6, ?), dtype=float32)\n"
     ]
    }
   ],
   "source": [
    "tf.reset_default_graph()\n",
    "\n",
    "with tf.Session() as sess:\n",
    "    X, Y = create_placeholders(12288, 6)\n",
    "    parameters = initialize_parameters()\n",
    "    Z3 = forward_propagation(X, parameters)\n",
    "    print('Z3 = {}'.format(Z3))"
   ],
   "metadata": {
    "collapsed": false,
    "pycharm": {
     "name": "#%%\n"
    }
   }
  },
  {
   "cell_type": "code",
   "execution_count": 30,
   "outputs": [],
   "source": [
    "def compute_cost(Z3, Y):\n",
    "    \"\"\"\n",
    "    计算成本\n",
    "    :param Z3: 前向传播的结果\n",
    "    :param Y:  标签，一个占位符，和Z3的维度相同\n",
    "    :return:\n",
    "        cost - 成本值\n",
    "    \"\"\"\n",
    "\n",
    "    logits = tf.transpose(Z3) # 转置\n",
    "    labels = tf.transpose(Y) # 转置\n",
    "    cost = tf.reduce_mean(tf.nn.softmax_cross_entropy_with_logits(logits=logits, labels=labels))\n",
    "\n",
    "    return cost"
   ],
   "metadata": {
    "collapsed": false,
    "pycharm": {
     "name": "#%%\n"
    }
   }
  },
  {
   "cell_type": "code",
   "execution_count": 31,
   "outputs": [
    {
     "name": "stdout",
     "output_type": "stream",
     "text": [
      "WARNING:tensorflow:From <ipython-input-30-1dfa01e0ab48>:12: softmax_cross_entropy_with_logits (from tensorflow.python.ops.nn_ops) is deprecated and will be removed in a future version.\n",
      "Instructions for updating:\n",
      "\n",
      "Future major versions of TensorFlow will allow gradients to flow\n",
      "into the labels input on backprop by default.\n",
      "\n",
      "See `tf.nn.softmax_cross_entropy_with_logits_v2`.\n",
      "\n",
      "cost = Tensor(\"Mean:0\", shape=(), dtype=float32)\n"
     ]
    }
   ],
   "source": [
    "tf.reset_default_graph()\n",
    "\n",
    "with tf.Session() as sess:\n",
    "    X, Y = create_placeholders(12288,6)\n",
    "    parameters = initialize_parameters()\n",
    "    Z3 = forward_propagation(X,parameters)\n",
    "    cost = compute_cost(Z3,Y)\n",
    "    print(\"cost = \" + str(cost))"
   ],
   "metadata": {
    "collapsed": false,
    "pycharm": {
     "name": "#%%\n"
    }
   }
  },
  {
   "cell_type": "code",
   "execution_count": 32,
   "outputs": [],
   "source": [
    "def model(X_train, Y_train, X_test, Y_test,\n",
    "          learning_rate=0.0001, num_epochs=1500, minibatch_size=32,\n",
    "          print_cost=True, is_plot=True):\n",
    "    \"\"\"\n",
    "    实现一个三层的TensorFlow神经网络：LINEAR->RELU->LINEAR->RELU->LINEAR->SOFTMAX\n",
    "    :param X_train: 训练集，维度为（输入大小（输入节点数量）=12288，样本数量=1080）\n",
    "    :param Y_train: 训练集分类数量，维度为（输出大小（输出节点数量）=6，样本数量=1080）\n",
    "    :param X_test: 测试集，维度为（输入大小（输入节点数量）=12288，样本数量=120）\n",
    "    :param Y_test: 测试集分类数量，维度为（输出大小（输出节点数量）=6，样本数量=120）\n",
    "    :param learning_rate: 学习率\n",
    "    :param num_epochs: 整个训练集的遍历次数\n",
    "    :param minibatch_size: 每个小批量数据集的大小\n",
    "    :param print_cost: 是否打印成本，每100代打印一次\n",
    "    :param is_plot: 是否绘制曲线图\n",
    "    :return:\n",
    "        parameters - 学习后的参数\n",
    "    \"\"\"\n",
    "    ops.reset_default_graph()  # 能够重新运行模型而不覆盖tf变量\n",
    "    tf.set_random_seed(1)\n",
    "    seed = 3\n",
    "    (n_x, m) = X_train.shape  # 获取输入节点数量和样本数\n",
    "    n_y = Y_train.shape[0]  # 获取输出节点数量\n",
    "    costs = []  # 成本集\n",
    "\n",
    "    # 给X & Y创建placeholder\n",
    "    X, Y = create_placeholders(n_x, n_y)\n",
    "\n",
    "    # 初始化参数\n",
    "    parameters = initialize_parameters()\n",
    "\n",
    "    # 前向传播\n",
    "    Z3 = forward_propagation(X, parameters)\n",
    "\n",
    "    # 计算成本\n",
    "    cost = compute_cost(Z3, Y)\n",
    "\n",
    "    # 反向传播，使用Adam优化\n",
    "    optimizer = tf.train.AdamOptimizer(learning_rate=learning_rate).minimize(cost)\n",
    "\n",
    "    # 初始化所有变量\n",
    "    init = tf.global_variables_initializer()\n",
    "\n",
    "    # 开始会话并计算\n",
    "    with tf.Session() as session:\n",
    "        # 初始化\n",
    "        session.run(init)\n",
    "\n",
    "        # training loop\n",
    "        for epoch in range(num_epochs):\n",
    "            epoch_cost = 0  # 每代的成本\n",
    "            num_minibatches = int(m / minibatch_size)  # minibatch的总数量\n",
    "            seed = seed + 1\n",
    "            minibatches = tf_utils.random_mini_batches(X_train, Y_train,mini_batch_size=minibatch_size, seed=seed)\n",
    "\n",
    "            for minibatch in minibatches:\n",
    "\n",
    "                (minibatch_x, minibatch_y) = minibatch\n",
    "\n",
    "                # 数据已经准备好了，开始运行session\n",
    "                _, minibatch_cost = session.run([optimizer, cost], feed_dict={X:minibatch_x, Y:minibatch_y})\n",
    "\n",
    "                # 计算这个minibatch在这一代中所占的误差\n",
    "                epoch_cost = epoch_cost + minibatch_cost / num_minibatches\n",
    "\n",
    "            # 记录并打印成本\n",
    "            ## 记录成本\n",
    "            if epoch % 5 == 0:\n",
    "                costs.append(epoch_cost)\n",
    "                # 是否打印\n",
    "                if print_cost and epoch % 100 == 0:\n",
    "                    print('epoch = {epoch}   epoch_cost = {epoch_cost}'.format(epoch=epoch, epoch_cost=epoch_cost))\n",
    "\n",
    "        # 是否绘制\n",
    "        if is_plot:\n",
    "            plt.plot(np.squeeze(costs))\n",
    "            plt.ylabel('cost')\n",
    "            plt.xlabel('iterations (per tens)')\n",
    "            plt.title('Learning rate = {}'.format(learning_rate))\n",
    "            plt.show()\n",
    "\n",
    "        # 保存学习后的参数\n",
    "        parameters = session.run(parameters)\n",
    "        print('参数已保存到session。')\n",
    "\n",
    "        # 计算当前的预测结果\n",
    "        correct_prediction = tf.equal(tf.argmax(Z3), tf.argmax(Y))\n",
    "\n",
    "        # 计算准确率\n",
    "        accuracy = tf.reduce_mean(tf.cast(correct_prediction, 'float'))\n",
    "\n",
    "        print('训练集の准确率： {}'.format(accuracy.eval({X: X_train, Y: Y_train})))\n",
    "        print('测试集の准确率： {}'.format(accuracy.eval({X: X_test, Y: Y_test})))\n",
    "\n",
    "        return parameters"
   ],
   "metadata": {
    "collapsed": false,
    "pycharm": {
     "name": "#%%\n"
    }
   }
  },
  {
   "cell_type": "code",
   "execution_count": 40,
   "outputs": [
    {
     "name": "stderr",
     "output_type": "stream",
     "text": [
      "F:\\anaconda3\\envs\\tf1\\lib\\site-packages\\ipykernel_launcher.py:2: DeprecationWarning: time.clock has been deprecated in Python 3.3 and will be removed from Python 3.8: use time.perf_counter or time.process_time instead\n",
      "  \n",
      "F:\\anaconda3\\envs\\tf1\\lib\\site-packages\\ipykernel_launcher.py:6: DeprecationWarning: time.clock has been deprecated in Python 3.3 and will be removed from Python 3.8: use time.perf_counter or time.process_time instead\n",
      "  \n"
     ]
    },
    {
     "name": "stdout",
     "output_type": "stream",
     "text": [
      "epoch = 0   epoch_cost = 1.8557019089207503\n",
      "epoch = 100   epoch_cost = 1.0164577455231638\n",
      "epoch = 200   epoch_cost = 0.7331024155472262\n",
      "epoch = 300   epoch_cost = 0.5729391032999213\n",
      "epoch = 400   epoch_cost = 0.4687737985090776\n",
      "epoch = 500   epoch_cost = 0.38101537299878674\n",
      "epoch = 600   epoch_cost = 0.31382867152040655\n",
      "epoch = 700   epoch_cost = 0.2541690735202846\n",
      "epoch = 800   epoch_cost = 0.2038003718762687\n",
      "epoch = 900   epoch_cost = 0.1664740659973838\n",
      "epoch = 1000   epoch_cost = 0.14140813188119367\n",
      "epoch = 1100   epoch_cost = 0.10760586708784105\n",
      "epoch = 1200   epoch_cost = 0.08672963427097506\n",
      "epoch = 1300   epoch_cost = 0.061015780845826324\n",
      "epoch = 1400   epoch_cost = 0.05091105559558578\n",
      "参数已保存到session。\n",
      "训练集の准确率： 0.9990741014480591\n",
      "测试集の准确率： 0.7250000238418579\n",
      "CPU的执行时间 = 351.883565600001 秒\n"
     ]
    },
    {
     "data": {
      "text/plain": "<Figure size 432x288 with 1 Axes>",
      "image/png": "[encoded data removed]"
     },
     "metadata": {
      "needs_background": "light"
     },
     "output_type": "display_data"
    }
   ],
   "source": [
    "# start time\n",
    "start_time = time.clock()\n",
    "# start training\n",
    "parameters = model(X_train, Y_train, X_test, Y_test)\n",
    "# end time\n",
    "end_time = time.clock()\n",
    "# compute time consuming\n",
    "print('CPU的执行时间 = {} 秒'.format(end_time - start_time))"
   ],
   "metadata": {
    "collapsed": false,
    "pycharm": {
     "name": "#%%\n"
    }
   }
  },
  {
   "cell_type": "code",
   "execution_count": null,
   "outputs": [],
   "source": [
    "tf_utils.predict()"
   ],
   "metadata": {
    "collapsed": false,
    "pycharm": {
     "name": "#%%\n"
    }
   }
  }
 ],
 "metadata": {
  "kernelspec": {
   "display_name": "Python 3",
   "language": "python",
   "name": "python3"
  },
  "language_info": {
   "codemirror_mode": {
    "name": "ipython",
    "version": 2
   },
   "file_extension": ".py",
   "mimetype": "text/x-python",
   "name": "python",
   "nbconvert_exporter": "python",
   "pygments_lexer": "ipython2",
   "version": "2.7.6"
  }
 },
 "nbformat": 4,
 "nbformat_minor": 0
}