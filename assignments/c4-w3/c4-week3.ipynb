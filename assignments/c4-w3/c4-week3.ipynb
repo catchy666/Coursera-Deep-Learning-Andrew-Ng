{
 "cells": [
  {
   "cell_type": "code",
   "execution_count": 1,
   "metadata": {
    "collapsed": true
   },
   "outputs": [],
   "source": [
    "import argparse\n",
    "import os\n",
    "import matplotlib.pyplot as plt\n",
    "from matplotlib.pyplot import imshow\n",
    "import scipy.io\n",
    "import scipy.misc\n",
    "import numpy as np\n",
    "import pandas as pd\n",
    "import PIL\n",
    "import tensorflow as tf\n",
    "from tensorflow.keras import backend as K\n",
    "from tensorflow.keras.layers import Input, Lambda, Conv2D\n",
    "from tensorflow.keras.models import load_model, Model"
   ]
  },
  {
   "cell_type": "code",
   "execution_count": 2,
   "outputs": [],
   "source": [
    "from yad2k.models.keras_yolo import yolo_head, yolo_boxes_to_corners, preprocess_true_boxes, yolo_loss, yolo_body\n",
    "\n",
    "import yolo_utils"
   ],
   "metadata": {
    "collapsed": false,
    "pycharm": {
     "name": "#%%\n"
    }
   }
  },
  {
   "cell_type": "code",
   "execution_count": 3,
   "outputs": [
    {
     "name": "stdout",
     "output_type": "stream",
     "text": [
      "[[45 34 33 12 58]\n",
      " [ 7 16 13  6 57]\n",
      " [39 22 65 33 30]\n",
      " ...\n",
      " [47 41 36 19 79]\n",
      " [76 52 50 30 46]\n",
      " [59 37 33 33 62]]\n",
      "(361, 5)\n"
     ]
    }
   ],
   "source": [
    "a = np.random.randn(19*19,5,1) #p_c\n",
    "b = np.random.randn(19*19,5,80) #c_1 ~ c_80\n",
    "c = a * b #计算后的维度将会是(19x19,5,80)\n",
    "index = c.argmax(axis=-1)\n",
    "print(index)\n",
    "print(index.shape)"
   ],
   "metadata": {
    "collapsed": false,
    "pycharm": {
     "name": "#%%\n"
    }
   }
  },
  {
   "cell_type": "code",
   "execution_count": 4,
   "outputs": [],
   "source": [
    "# 分类阈值过滤\n",
    "def yolo_filter_boxes(box_confidence, boxes, box_class_probs, threshold=0.6):\n",
    "    \"\"\"\n",
    "    通过阈值来过滤对象和分类的置信度。\n",
    "    Args:\n",
    "        box_confidence: tensor类型，维度为（19,19,5,1）,包含19x19单元格中每个单元格预测的5个锚框中的所有的锚框的pc （一些对象的置信概率）。\n",
    "        boxes: tensor类型，维度为(19,19,5,4)，包含了所有的锚框的（px,py,ph,pw ）。\n",
    "        box_class_probs: tensor类型，维度为(19,19,5,80)，包含了所有单元格中所有锚框的所有对象( c1,c2,c3，···，c80 )检测的概率。\n",
    "        threshold: 实数，阈值，如果分类预测的概率高于它，那么这个分类预测的概率就会被保留。\n",
    "\n",
    "    Returns:\n",
    "        scores - tensor 类型，维度为(None,)，包含了保留了的锚框的分类概率。\n",
    "        boxes - tensor 类型，维度为(None,4)，包含了保留了的锚框的(b_x, b_y, b_h, b_w)\n",
    "        classes - tensor 类型，维度为(None,)，包含了保留了的锚框的索引\n",
    "    Notes：\"None\"是因为你不知道所选框的确切数量，因为它取决于阈值。\n",
    "          比如：如果有10个锚框，scores的实际输出大小将是（10,）\n",
    "    \"\"\"\n",
    "    # step1: 计算锚框的得分\n",
    "    box_scores = box_confidence * box_class_probs\n",
    "    print(\"box_scores.shape = {}\".format(box_scores.shape))\n",
    "\n",
    "    # step2: 找到最大值的锚框的索引以及对应的最大值的锚框的分数\n",
    "    box_classes = K.argmax(box_scores, axis=-1)\n",
    "    box_class_scores = K.max(box_scores, axis=-1)\n",
    "    print(\"box_classes.shape = {}\".format(box_classes.shape))\n",
    "    print(\"box_class_scores.shape = {}\".format(box_class_scores.shape))\n",
    "\n",
    "    # step3: 根据阈值创建掩码\n",
    "    filtering_mask = (box_class_scores >= threshold) # 如执行下列操作：[0.9, 0.3, 0.4, 0.5, 0.1] < 0.4，返回的是[False, True, False, False, True]\n",
    "    print(\"filtering_mask.shape = {}\".format(filtering_mask.shape))\n",
    "    # print(\"filtering_mask = {}\".format(filtering_mask.eval()))\n",
    "    # 对scores, boxes 以及 classes使用掩码\n",
    "    scores = tf.boolean_mask(box_class_scores, filtering_mask)\n",
    "    boxes = tf.boolean_mask(boxes, filtering_mask)\n",
    "    classes = tf.boolean_mask(box_classes, filtering_mask)\n",
    "\n",
    "    return scores, boxes, classes"
   ],
   "metadata": {
    "collapsed": false,
    "pycharm": {
     "name": "#%%\n"
    }
   }
  },
  {
   "cell_type": "code",
   "execution_count": 5,
   "outputs": [
    {
     "name": "stdout",
     "output_type": "stream",
     "text": [
      "box_scores.shape = (19, 19, 5, 80)\n",
      "box_classes.shape = (19, 19, 5)\n",
      "box_class_scores.shape = (19, 19, 5)\n",
      "filtering_mask.shape = (19, 19, 5)\n",
      "WARNING:tensorflow:From F:\\anaconda3\\envs\\tf1\\lib\\site-packages\\tensorflow_core\\python\\ops\\array_ops.py:1475: where (from tensorflow.python.ops.array_ops) is deprecated and will be removed in a future version.\n",
      "Instructions for updating:\n",
      "Use tf.where in 2.0, which has the same broadcast rule as np.where\n",
      "scores[2]=10.750581741333008\n",
      "boxes[2]=[ 8.426533   3.2713668 -0.5313436 -4.9413733]\n",
      "classes[2]=7\n",
      "scores.shape = (?,)\n",
      "boxes.shape = (?, 4)\n",
      "classes.shape = (?,)\n"
     ]
    }
   ],
   "source": [
    "with tf.Session() as test_a:\n",
    "    box_confidence = tf.random_normal(shape=[19, 19, 5, 1], mean=1, stddev=4, seed=1)\n",
    "    boxes = tf.random_normal(shape=[19, 19, 5, 4], mean=1, stddev=4, seed=1)\n",
    "    box_class_probs = tf.random_normal(shape=[19, 19, 5, 80], mean=1, stddev=4, seed=1)\n",
    "    scores, boxes, classes = yolo_filter_boxes(box_confidence, boxes, box_class_probs, threshold=0.5)\n",
    "\n",
    "    print(\"scores[2]={}\".format(scores[2].eval()))\n",
    "    print(\"boxes[2]={}\".format(boxes[2].eval()))\n",
    "    print(\"classes[2]={}\".format(classes[2].eval()))\n",
    "    print(\"scores.shape = {}\".format(scores.shape))\n",
    "    print(\"boxes.shape = {}\".format(boxes.shape))\n",
    "    print(\"classes.shape = {}\".format(classes.shape))\n",
    "\n",
    "    test_a.close()"
   ],
   "metadata": {
    "collapsed": false,
    "pycharm": {
     "name": "#%%\n"
    }
   }
  },
  {
   "cell_type": "code",
   "execution_count": 6,
   "outputs": [],
   "source": [
    "# 非最大值抑制 (NMS )\n",
    "def iou(box1, box2):\n",
    "    \"\"\"\n",
    "    实现两个锚框的交并比的计算\n",
    "\n",
    "    Args:\n",
    "        box1: 第一个锚框，元组类型，(x1, y1, x2, y2)\n",
    "        box2: 第二个锚框，元组类型，(x1, y1, x2, y2)\n",
    "\n",
    "    Returns:\n",
    "        iou - 实数，交并比。\n",
    "    \"\"\"\n",
    "    # step1 - 计算交集 （相交区域面积）\n",
    "    xi1 = np.maximum(box1[0], box2[0])\n",
    "    yi1 = np.maximum(box1[1], box2[1])\n",
    "    xi2 = np.minimum(box1[2], box2[2])\n",
    "    yi2 = np.minimum(box1[3], box2[3])\n",
    "    inter_area = (xi1 - xi2) * (yi1 - yi2)\n",
    "\n",
    "    # step2 - 计算并集，Union(A,B) = A + B - Inter(A,B)\n",
    "    box1_area = (box1[2] - box1[0]) * (box1[3] - box1[1])\n",
    "    box2_area = (box2[2] - box2[0]) * (box2[3] - box2[1])\n",
    "    union_area = box1_area + box2_area - inter_area\n",
    "\n",
    "    # step3 - 计算IOU\n",
    "    iou = inter_area / union_area\n",
    "\n",
    "    return iou"
   ],
   "metadata": {
    "collapsed": false,
    "pycharm": {
     "name": "#%%\n"
    }
   }
  },
  {
   "cell_type": "code",
   "execution_count": 7,
   "outputs": [
    {
     "name": "stdout",
     "output_type": "stream",
     "text": [
      "iou = 0.14285714285714285\n"
     ]
    }
   ],
   "source": [
    "# test demo\n",
    "box1 = (2, 1, 4, 3)\n",
    "box2 = (1, 2, 3, 4)\n",
    "print(\"iou = {}\".format(iou(box1, box2)))"
   ],
   "metadata": {
    "collapsed": false,
    "pycharm": {
     "name": "#%%\n"
    }
   }
  },
  {
   "cell_type": "code",
   "execution_count": 18,
   "outputs": [],
   "source": [
    "def yolo_non_max_suppression(scores, boxes, classes,\n",
    "                             max_boxes=10, iou_threshold=0.5):\n",
    "    \"\"\"\n",
    "    为锚框实现非最大值抑制（ Non-max suppression (NMS)）\n",
    "\n",
    "    Args:\n",
    "        scores: tensor类型，维度为(None,)，yolo_filter_boxes()的输出\n",
    "        boxes: tensor类型，维度为(None,4)，yolo_filter_boxes()的输出，已缩放到图像大小\n",
    "        classes: tensor类型，维度为(None,)，yolo_filter_boxes()的输出\n",
    "        max_boxes: 整数，预测的锚框数量的最大值\n",
    "        iou_threshold: 实数，交并比阈值。\n",
    "\n",
    "    Returns:\n",
    "        scores - tensor类型，维度为(, None)，每个锚框的预测的可能值\n",
    "        boxes - tensor类型，维度为(4, None)，预测的锚框的坐标\n",
    "        classes - tensor类型，维度为(, None)，每个锚框的预测的分类\n",
    "\n",
    "    Notes：\n",
    "        \"None\"是明显小于max_boxes的，这个函数也会改变scores、boxes、classes的维度，这会为下一步操作提供方便。\n",
    "\n",
    "    \"\"\"\n",
    "    max_boxes_tensor = K.variable(max_boxes, dtype='int32')  # 用于tf.image.non_max_suppression()\n",
    "    K.get_session().run(tf.variables_initializer([max_boxes_tensor]))  # 初始化变量max_boxes_tensor\n",
    "\n",
    "    # 使用使用tf.image.non_max_suppression()来获取与我们保留的框相对应的索引列表\n",
    "    nms_indices = tf.image.non_max_suppression(boxes, scores, max_boxes, iou_threshold)\n",
    "    print(\"nms_indices.shape = {}\".format(nms_indices.shape))\n",
    "    # print(\"nms_indices: {}\".format(nms_indices.eval()))\n",
    "    # 使用K.gather()来选择保留的锚框\n",
    "    scores = K.gather(scores, nms_indices)\n",
    "    boxes = K.gather(boxes, nms_indices)\n",
    "    classes = K.gather(classes, nms_indices)\n",
    "\n",
    "    return scores, boxes, classes"
   ],
   "metadata": {
    "collapsed": false,
    "pycharm": {
     "name": "#%%\n"
    }
   }
  },
  {
   "cell_type": "code",
   "execution_count": 9,
   "outputs": [
    {
     "name": "stdout",
     "output_type": "stream",
     "text": [
      "WARNING:tensorflow:From F:\\anaconda3\\envs\\tf1\\lib\\site-packages\\tensorflow_core\\python\\ops\\resource_variable_ops.py:1630: calling BaseResourceVariable.__init__ (from tensorflow.python.ops.resource_variable_ops) with constraint is deprecated and will be removed in a future version.\n",
      "Instructions for updating:\n",
      "If using Keras pass *_constraint arguments to layers.\n",
      "nms_indices.shape = (?,)\n",
      "nms_indices: [12 19  1 33 40 16 24 31 10 38]\n",
      "scores[2] = 7.119767189025879\n",
      "boxes[2] = [-4.0407705  1.7758924  7.287429  -0.5516968]\n",
      "classes[2] = 0.8393290638923645\n",
      "scores.shape = (10,)\n",
      "boxes.shape = (10, 4)\n",
      "classes.shape = (10,)\n"
     ]
    }
   ],
   "source": [
    "with tf.Session() as test_b:\n",
    "    scores = tf.random_normal([54,], mean=1, stddev=4, seed=1)\n",
    "    boxes = tf.random_normal([54, 4], mean=1, stddev=4, seed=1)\n",
    "    classes = tf.random_normal([54,], mean=1, stddev=4, seed=1)\n",
    "    scores, boxes, classes = yolo_non_max_suppression(scores, boxes, classes)\n",
    "\n",
    "    print(\"scores[2] = {}\".format(scores[2].eval()))\n",
    "    print(\"boxes[2] = {}\".format(boxes[2].eval()))\n",
    "    print(\"classes[2] = {}\".format(classes[2].eval()))\n",
    "    print(\"scores.shape = {}\".format(scores.eval().shape))\n",
    "    print(\"boxes.shape = {}\".format(boxes.eval().shape))\n",
    "    print(\"classes.shape = {}\".format(classes.eval().shape))\n",
    "\n",
    "    test_b.close()"
   ],
   "metadata": {
    "collapsed": false,
    "pycharm": {
     "name": "#%%\n"
    }
   }
  },
  {
   "cell_type": "code",
   "execution_count": 10,
   "outputs": [],
   "source": [
    "def yolo_eval(yolo_outputs, image_shape=(720., 1280.),\n",
    "              max_boxes=10, score_threshold=0.6, iou_threshold=0.5):\n",
    "    \"\"\"\n",
    "    将YOLO编码的输出（很多锚框）转换为预测框以及它们的分数，框坐标和类。\n",
    "\n",
    "    Args:\n",
    "        yolo_outputs: 编码模型的输出（对于维度为（608,608,3）的图片），包含4个tensors类型的变量：\n",
    "                        box_confidence ： tensor类型，维度为(None, 19, 19, 5, 1)\n",
    "                        box_xy         ： tensor类型，维度为(None, 19, 19, 5, 2)\n",
    "                        box_wh         ： tensor类型，维度为(None, 19, 19, 5, 2)\n",
    "                        box_class_probs： tensor类型，维度为(None, 19, 19, 5, 80)\n",
    "        image_shape: tensor类型，维度为（2,），包含了输入的图像的维度，这里是(608.,608.)\n",
    "        max_boxes: 整数，预测的锚框数量的最大值\n",
    "        score_threshold: 实数，可能性阈值。\n",
    "        iou_threshold: 实数，交并比阈值。\n",
    "\n",
    "    Returns:\n",
    "        scores - tensor类型，维度为(, None)，每个锚框的预测的可能值\n",
    "        boxes - tensor类型，维度为(4, None)，预测的锚框的坐标\n",
    "        classes - tensor类型，维度为(, None)，每个锚框的预测的分类\n",
    "    \"\"\"\n",
    "    # 获取YOLO模型的输出\n",
    "    box_confidence, box_xy, box_wh, box_class_probs = yolo_outputs\n",
    "\n",
    "    # 中心点转换为边角\n",
    "    boxes = yolo_boxes_to_corners(box_xy, box_wh)\n",
    "\n",
    "    # 可信度分值过滤\n",
    "    scores, boxes, classes = yolo_filter_boxes(box_confidence, boxes, box_class_probs, score_threshold)\n",
    "\n",
    "    # 缩放锚框，以适应原始图像\n",
    "    boxes = yolo_utils.scale_boxes(boxes, image_shape)\n",
    "\n",
    "    # 使用非最大值抑制\n",
    "    scores, boxes, classes = yolo_non_max_suppression(scores, boxes, classes, max_boxes, iou_threshold)\n",
    "\n",
    "    return scores, boxes, classes"
   ],
   "metadata": {
    "collapsed": false,
    "pycharm": {
     "name": "#%%\n"
    }
   }
  },
  {
   "cell_type": "code",
   "execution_count": 11,
   "outputs": [
    {
     "name": "stdout",
     "output_type": "stream",
     "text": [
      "box_scores.shape = (19, 19, 5, 80)\n",
      "box_classes.shape = (19, 19, 5)\n",
      "box_class_scores.shape = (19, 19, 5)\n",
      "filtering_mask.shape = (19, 19, 5)\n",
      "nms_indices.shape = (?,)\n",
      "nms_indices: [1182 1253  798 1006  807  287  496 1729 1057  985]\n",
      "scores[2] = 154.18258666992188\n",
      "boxes[2] = [ 2631.7495  -429.0869  7895.2485 -1287.2607]\n",
      "classes[2] = 64\n",
      "scores.shape = (10,)\n",
      "boxes.shape = (10, 4)\n",
      "classes.shape = (10,)\n"
     ]
    }
   ],
   "source": [
    "# test demo:\n",
    "with tf.Session() as test_c:\n",
    "    yolo_outputs = (tf.random_normal([19, 19, 5, 1], mean=1, stddev=4, seed=1),\n",
    "                    tf.random_normal([19, 19, 5, 2], mean=1, stddev=4, seed=1),\n",
    "                    tf.random_normal([19, 19, 5, 2], mean=1, stddev=4, seed=1),\n",
    "                    tf.random_normal([19, 19, 5, 80], mean=1, stddev=4, seed=1),\n",
    "                    )\n",
    "    scores, boxes, classes = yolo_eval(yolo_outputs)\n",
    "\n",
    "    print(\"scores[2] = {}\".format(scores[2].eval()))\n",
    "    print(\"boxes[2] = {}\".format(boxes[2].eval()))\n",
    "    print(\"classes[2] = {}\".format(classes[2].eval()))\n",
    "    print(\"scores.shape = {}\".format(scores.eval().shape))\n",
    "    print(\"boxes.shape = {}\".format(boxes.eval().shape))\n",
    "    print(\"classes.shape = {}\".format(classes.eval().shape))\n",
    "\n",
    "    test_c.close()"
   ],
   "metadata": {
    "collapsed": false,
    "pycharm": {
     "name": "#%%\n"
    }
   }
  },
  {
   "cell_type": "markdown",
   "source": [
    "### 对YOLO的总结：\n",
    "\n",
    "- 输入图像为(608,608,3)\n",
    "- 输入的图像先要通过一个CNN模型，返回一个(19, 19, 5, 85)的数据。\n",
    "- 在对最后两维降维之后，输出的维度变为了(19,19,425):\n",
    "    - 每个19x19的单元格拥有425个数字。\n",
    "    - 425 = 5 x 85，即每个单元格拥有5个锚框，每个锚框由5个基本信息+80个分类预测构成。\n",
    "    - 85 = 5 + 85，其中5个基本信息是$p_c, p_x, p_y, p_w, p_h$,剩下80就是80个分类的预测。\n",
    "- 然后我们会根据以下规则选择锚框：\n",
    "    - 预测分数阈值：丢弃分数低于阈值的分类的锚框。\n",
    "    - 非最大值抑制：计算交并比，并避免选择重叠框。\n",
    "- 最后给出YOLO的最终输出。"
   ],
   "metadata": {
    "collapsed": false,
    "pycharm": {
     "name": "#%% md\n"
    }
   }
  },
  {
   "cell_type": "markdown",
   "source": [
    "### 测试已经训练好了的YOLO模型\n",
    "在这部分，我们将使用一个预先训练好的模型并在汽车检测数据集上进行测试。\n",
    "像往常一样，首先创建一个会话来启动计算图："
   ],
   "metadata": {
    "collapsed": false,
    "pycharm": {
     "name": "#%% md\n"
    }
   }
  },
  {
   "cell_type": "code",
   "execution_count": 12,
   "outputs": [],
   "source": [
    "sess = K.get_session()"
   ],
   "metadata": {
    "collapsed": false,
    "pycharm": {
     "name": "#%%\n"
    }
   }
  },
  {
   "cell_type": "code",
   "execution_count": 13,
   "outputs": [],
   "source": [
    "# 定义分类、锚框与图像维度\n",
    "class_names = yolo_utils.read_classes('model_data/coco_classes.txt')\n",
    "anchors = yolo_utils.read_anchors('model_data/yolo_anchors.txt')\n",
    "image_shape = (720., 1280.)"
   ],
   "metadata": {
    "collapsed": false,
    "pycharm": {
     "name": "#%%\n"
    }
   }
  },
  {
   "cell_type": "code",
   "execution_count": 14,
   "outputs": [
    {
     "name": "stdout",
     "output_type": "stream",
     "text": [
      "WARNING:tensorflow:From C:\\Users\\Oscar\\Desktop\\yad2k\\yad2k\\models\\keras_yolo.py:32: The name tf.space_to_depth is deprecated. Please use tf.compat.v1.space_to_depth instead.\n",
      "\n",
      "WARNING:tensorflow:No training configuration found in save file: the model was *not* compiled. Compile it manually.\n"
     ]
    }
   ],
   "source": [
    "# 加载已经训练好了的模型\n",
    "yolo_model = load_model('model_data/yolov2.h5')"
   ],
   "metadata": {
    "collapsed": false,
    "pycharm": {
     "name": "#%%\n"
    }
   }
  },
  {
   "cell_type": "code",
   "execution_count": 15,
   "outputs": [
    {
     "name": "stdout",
     "output_type": "stream",
     "text": [
      "Model: \"model_1\"\n",
      "__________________________________________________________________________________________________\n",
      "Layer (type)                    Output Shape         Param #     Connected to                     \n",
      "==================================================================================================\n",
      "input_1 (InputLayer)            [(None, 608, 608, 3) 0                                            \n",
      "__________________________________________________________________________________________________\n",
      "conv2d_1 (Conv2D)               (None, 608, 608, 32) 864         input_1[0][0]                    \n",
      "__________________________________________________________________________________________________\n",
      "batch_normalization_1 (BatchNor (None, 608, 608, 32) 128         conv2d_1[0][0]                   \n",
      "__________________________________________________________________________________________________\n",
      "leaky_re_lu_1 (LeakyReLU)       (None, 608, 608, 32) 0           batch_normalization_1[0][0]      \n",
      "__________________________________________________________________________________________________\n",
      "max_pooling2d_1 (MaxPooling2D)  (None, 304, 304, 32) 0           leaky_re_lu_1[0][0]              \n",
      "__________________________________________________________________________________________________\n",
      "conv2d_2 (Conv2D)               (None, 304, 304, 64) 18432       max_pooling2d_1[0][0]            \n",
      "__________________________________________________________________________________________________\n",
      "batch_normalization_2 (BatchNor (None, 304, 304, 64) 256         conv2d_2[0][0]                   \n",
      "__________________________________________________________________________________________________\n",
      "leaky_re_lu_2 (LeakyReLU)       (None, 304, 304, 64) 0           batch_normalization_2[0][0]      \n",
      "__________________________________________________________________________________________________\n",
      "max_pooling2d_2 (MaxPooling2D)  (None, 152, 152, 64) 0           leaky_re_lu_2[0][0]              \n",
      "__________________________________________________________________________________________________\n",
      "conv2d_3 (Conv2D)               (None, 152, 152, 128 73728       max_pooling2d_2[0][0]            \n",
      "__________________________________________________________________________________________________\n",
      "batch_normalization_3 (BatchNor (None, 152, 152, 128 512         conv2d_3[0][0]                   \n",
      "__________________________________________________________________________________________________\n",
      "leaky_re_lu_3 (LeakyReLU)       (None, 152, 152, 128 0           batch_normalization_3[0][0]      \n",
      "__________________________________________________________________________________________________\n",
      "conv2d_4 (Conv2D)               (None, 152, 152, 64) 8192        leaky_re_lu_3[0][0]              \n",
      "__________________________________________________________________________________________________\n",
      "batch_normalization_4 (BatchNor (None, 152, 152, 64) 256         conv2d_4[0][0]                   \n",
      "__________________________________________________________________________________________________\n",
      "leaky_re_lu_4 (LeakyReLU)       (None, 152, 152, 64) 0           batch_normalization_4[0][0]      \n",
      "__________________________________________________________________________________________________\n",
      "conv2d_5 (Conv2D)               (None, 152, 152, 128 73728       leaky_re_lu_4[0][0]              \n",
      "__________________________________________________________________________________________________\n",
      "batch_normalization_5 (BatchNor (None, 152, 152, 128 512         conv2d_5[0][0]                   \n",
      "__________________________________________________________________________________________________\n",
      "leaky_re_lu_5 (LeakyReLU)       (None, 152, 152, 128 0           batch_normalization_5[0][0]      \n",
      "__________________________________________________________________________________________________\n",
      "max_pooling2d_3 (MaxPooling2D)  (None, 76, 76, 128)  0           leaky_re_lu_5[0][0]              \n",
      "__________________________________________________________________________________________________\n",
      "conv2d_6 (Conv2D)               (None, 76, 76, 256)  294912      max_pooling2d_3[0][0]            \n",
      "__________________________________________________________________________________________________\n",
      "batch_normalization_6 (BatchNor (None, 76, 76, 256)  1024        conv2d_6[0][0]                   \n",
      "__________________________________________________________________________________________________\n",
      "leaky_re_lu_6 (LeakyReLU)       (None, 76, 76, 256)  0           batch_normalization_6[0][0]      \n",
      "__________________________________________________________________________________________________\n",
      "conv2d_7 (Conv2D)               (None, 76, 76, 128)  32768       leaky_re_lu_6[0][0]              \n",
      "__________________________________________________________________________________________________\n",
      "batch_normalization_7 (BatchNor (None, 76, 76, 128)  512         conv2d_7[0][0]                   \n",
      "__________________________________________________________________________________________________\n",
      "leaky_re_lu_7 (LeakyReLU)       (None, 76, 76, 128)  0           batch_normalization_7[0][0]      \n",
      "__________________________________________________________________________________________________\n",
      "conv2d_8 (Conv2D)               (None, 76, 76, 256)  294912      leaky_re_lu_7[0][0]              \n",
      "__________________________________________________________________________________________________\n",
      "batch_normalization_8 (BatchNor (None, 76, 76, 256)  1024        conv2d_8[0][0]                   \n",
      "__________________________________________________________________________________________________\n",
      "leaky_re_lu_8 (LeakyReLU)       (None, 76, 76, 256)  0           batch_normalization_8[0][0]      \n",
      "__________________________________________________________________________________________________\n",
      "max_pooling2d_4 (MaxPooling2D)  (None, 38, 38, 256)  0           leaky_re_lu_8[0][0]              \n",
      "__________________________________________________________________________________________________\n",
      "conv2d_9 (Conv2D)               (None, 38, 38, 512)  1179648     max_pooling2d_4[0][0]            \n",
      "__________________________________________________________________________________________________\n",
      "batch_normalization_9 (BatchNor (None, 38, 38, 512)  2048        conv2d_9[0][0]                   \n",
      "__________________________________________________________________________________________________\n",
      "leaky_re_lu_9 (LeakyReLU)       (None, 38, 38, 512)  0           batch_normalization_9[0][0]      \n",
      "__________________________________________________________________________________________________\n",
      "conv2d_10 (Conv2D)              (None, 38, 38, 256)  131072      leaky_re_lu_9[0][0]              \n",
      "__________________________________________________________________________________________________\n",
      "batch_normalization_10 (BatchNo (None, 38, 38, 256)  1024        conv2d_10[0][0]                  \n",
      "__________________________________________________________________________________________________\n",
      "leaky_re_lu_10 (LeakyReLU)      (None, 38, 38, 256)  0           batch_normalization_10[0][0]     \n",
      "__________________________________________________________________________________________________\n",
      "conv2d_11 (Conv2D)              (None, 38, 38, 512)  1179648     leaky_re_lu_10[0][0]             \n",
      "__________________________________________________________________________________________________\n",
      "batch_normalization_11 (BatchNo (None, 38, 38, 512)  2048        conv2d_11[0][0]                  \n",
      "__________________________________________________________________________________________________\n",
      "leaky_re_lu_11 (LeakyReLU)      (None, 38, 38, 512)  0           batch_normalization_11[0][0]     \n",
      "__________________________________________________________________________________________________\n",
      "conv2d_12 (Conv2D)              (None, 38, 38, 256)  131072      leaky_re_lu_11[0][0]             \n",
      "__________________________________________________________________________________________________\n",
      "batch_normalization_12 (BatchNo (None, 38, 38, 256)  1024        conv2d_12[0][0]                  \n",
      "__________________________________________________________________________________________________\n",
      "leaky_re_lu_12 (LeakyReLU)      (None, 38, 38, 256)  0           batch_normalization_12[0][0]     \n",
      "__________________________________________________________________________________________________\n",
      "conv2d_13 (Conv2D)              (None, 38, 38, 512)  1179648     leaky_re_lu_12[0][0]             \n",
      "__________________________________________________________________________________________________\n",
      "batch_normalization_13 (BatchNo (None, 38, 38, 512)  2048        conv2d_13[0][0]                  \n",
      "__________________________________________________________________________________________________\n",
      "leaky_re_lu_13 (LeakyReLU)      (None, 38, 38, 512)  0           batch_normalization_13[0][0]     \n",
      "__________________________________________________________________________________________________\n",
      "max_pooling2d_5 (MaxPooling2D)  (None, 19, 19, 512)  0           leaky_re_lu_13[0][0]             \n",
      "__________________________________________________________________________________________________\n",
      "conv2d_14 (Conv2D)              (None, 19, 19, 1024) 4718592     max_pooling2d_5[0][0]            \n",
      "__________________________________________________________________________________________________\n",
      "batch_normalization_14 (BatchNo (None, 19, 19, 1024) 4096        conv2d_14[0][0]                  \n",
      "__________________________________________________________________________________________________\n",
      "leaky_re_lu_14 (LeakyReLU)      (None, 19, 19, 1024) 0           batch_normalization_14[0][0]     \n",
      "__________________________________________________________________________________________________\n",
      "conv2d_15 (Conv2D)              (None, 19, 19, 512)  524288      leaky_re_lu_14[0][0]             \n",
      "__________________________________________________________________________________________________\n",
      "batch_normalization_15 (BatchNo (None, 19, 19, 512)  2048        conv2d_15[0][0]                  \n",
      "__________________________________________________________________________________________________\n",
      "leaky_re_lu_15 (LeakyReLU)      (None, 19, 19, 512)  0           batch_normalization_15[0][0]     \n",
      "__________________________________________________________________________________________________\n",
      "conv2d_16 (Conv2D)              (None, 19, 19, 1024) 4718592     leaky_re_lu_15[0][0]             \n",
      "__________________________________________________________________________________________________\n",
      "batch_normalization_16 (BatchNo (None, 19, 19, 1024) 4096        conv2d_16[0][0]                  \n",
      "__________________________________________________________________________________________________\n",
      "leaky_re_lu_16 (LeakyReLU)      (None, 19, 19, 1024) 0           batch_normalization_16[0][0]     \n",
      "__________________________________________________________________________________________________\n",
      "conv2d_17 (Conv2D)              (None, 19, 19, 512)  524288      leaky_re_lu_16[0][0]             \n",
      "__________________________________________________________________________________________________\n",
      "batch_normalization_17 (BatchNo (None, 19, 19, 512)  2048        conv2d_17[0][0]                  \n",
      "__________________________________________________________________________________________________\n",
      "leaky_re_lu_17 (LeakyReLU)      (None, 19, 19, 512)  0           batch_normalization_17[0][0]     \n",
      "__________________________________________________________________________________________________\n",
      "conv2d_18 (Conv2D)              (None, 19, 19, 1024) 4718592     leaky_re_lu_17[0][0]             \n",
      "__________________________________________________________________________________________________\n",
      "batch_normalization_18 (BatchNo (None, 19, 19, 1024) 4096        conv2d_18[0][0]                  \n",
      "__________________________________________________________________________________________________\n",
      "leaky_re_lu_18 (LeakyReLU)      (None, 19, 19, 1024) 0           batch_normalization_18[0][0]     \n",
      "__________________________________________________________________________________________________\n",
      "conv2d_19 (Conv2D)              (None, 19, 19, 1024) 9437184     leaky_re_lu_18[0][0]             \n",
      "__________________________________________________________________________________________________\n",
      "batch_normalization_19 (BatchNo (None, 19, 19, 1024) 4096        conv2d_19[0][0]                  \n",
      "__________________________________________________________________________________________________\n",
      "conv2d_21 (Conv2D)              (None, 38, 38, 64)   32768       leaky_re_lu_13[0][0]             \n",
      "__________________________________________________________________________________________________\n",
      "leaky_re_lu_19 (LeakyReLU)      (None, 19, 19, 1024) 0           batch_normalization_19[0][0]     \n",
      "__________________________________________________________________________________________________\n",
      "batch_normalization_21 (BatchNo (None, 38, 38, 64)   256         conv2d_21[0][0]                  \n",
      "__________________________________________________________________________________________________\n",
      "conv2d_20 (Conv2D)              (None, 19, 19, 1024) 9437184     leaky_re_lu_19[0][0]             \n",
      "__________________________________________________________________________________________________\n",
      "leaky_re_lu_21 (LeakyReLU)      (None, 38, 38, 64)   0           batch_normalization_21[0][0]     \n",
      "__________________________________________________________________________________________________\n",
      "batch_normalization_20 (BatchNo (None, 19, 19, 1024) 4096        conv2d_20[0][0]                  \n",
      "__________________________________________________________________________________________________\n",
      "space_to_depth_x2 (Lambda)      (None, 19, 19, 256)  0           leaky_re_lu_21[0][0]             \n",
      "__________________________________________________________________________________________________\n",
      "leaky_re_lu_20 (LeakyReLU)      (None, 19, 19, 1024) 0           batch_normalization_20[0][0]     \n",
      "__________________________________________________________________________________________________\n",
      "concatenate_1 (Concatenate)     (None, 19, 19, 1280) 0           space_to_depth_x2[0][0]          \n",
      "                                                                 leaky_re_lu_20[0][0]             \n",
      "__________________________________________________________________________________________________\n",
      "conv2d_22 (Conv2D)              (None, 19, 19, 1024) 11796480    concatenate_1[0][0]              \n",
      "__________________________________________________________________________________________________\n",
      "batch_normalization_22 (BatchNo (None, 19, 19, 1024) 4096        conv2d_22[0][0]                  \n",
      "__________________________________________________________________________________________________\n",
      "leaky_re_lu_22 (LeakyReLU)      (None, 19, 19, 1024) 0           batch_normalization_22[0][0]     \n",
      "__________________________________________________________________________________________________\n",
      "conv2d_23 (Conv2D)              (None, 19, 19, 425)  435625      leaky_re_lu_22[0][0]             \n",
      "==================================================================================================\n",
      "Total params: 50,983,561\n",
      "Trainable params: 50,962,889\n",
      "Non-trainable params: 20,672\n",
      "__________________________________________________________________________________________________\n"
     ]
    }
   ],
   "source": [
    "yolo_model.summary()"
   ],
   "metadata": {
    "collapsed": false,
    "pycharm": {
     "name": "#%%\n"
    }
   }
  },
  {
   "cell_type": "code",
   "execution_count": 16,
   "outputs": [],
   "source": [
    "yolo_outputs = yolo_head(yolo_model.output, anchors, len(class_names))"
   ],
   "metadata": {
    "collapsed": false,
    "pycharm": {
     "name": "#%%\n"
    }
   }
  },
  {
   "cell_type": "code",
   "execution_count": 19,
   "outputs": [
    {
     "name": "stdout",
     "output_type": "stream",
     "text": [
      "box_scores.shape = (?, ?, ?, 5, 80)\n",
      "box_classes.shape = (?, ?, ?, 5)\n",
      "box_class_scores.shape = (?, ?, ?, 5)\n",
      "filtering_mask.shape = (?, ?, ?, 5)\n",
      "nms_indices.shape = (?,)\n"
     ]
    }
   ],
   "source": [
    "scores, boxes, classes = yolo_eval(yolo_outputs, image_shape)"
   ],
   "metadata": {
    "collapsed": false,
    "pycharm": {
     "name": "#%%\n"
    }
   }
  },
  {
   "cell_type": "code",
   "execution_count": 23,
   "outputs": [],
   "source": [
    "def predict(sess, image_file, is_show_info=True, is_plot=True):\n",
    "    \"\"\"\n",
    "    运行存储在sess的计算图以预测image_file的边界框，打印出预测的图与信息。\n",
    "\n",
    "    Args:\n",
    "        sess: 包含了YOLO计算图的TensorFlow/Keras的会话。\n",
    "        image_file: 存储在images文件夹下的图片名称\n",
    "\n",
    "    Returns:\n",
    "        out_scores - tensor类型，维度为(None,)，锚框的预测的可能值。\n",
    "        out_boxes - tensor类型，维度为(None,4)，包含了锚框位置信息。\n",
    "        out_classes - tensor类型，维度为(None,)，锚框的预测的分类索引。\n",
    "\n",
    "    \"\"\"\n",
    "\n",
    "    # 图像预处理\n",
    "    image, image_data = yolo_utils.preprocess_image('images/' + image_file, (608, 608))\n",
    "\n",
    "    # 运行会话并在feed_dict中选择正确的占位符.\n",
    "    out_scores, out_boxes, out_classes = sess.run([scores, boxes, classes],\n",
    "                                                  feed_dict={\n",
    "                                                      yolo_model.input: image_data,\n",
    "                                                      K.learning_phase(): 0\n",
    "                                                  })\n",
    "    #打印预测信息\n",
    "    if is_show_info:\n",
    "        print(\"在\" + str(image_file) + \"中找到了\" + str(len(out_boxes)) + \"个锚框。\")\n",
    "\n",
    "    # 指定要绘制的边界框的颜色\n",
    "    colors = yolo_utils.generate_colors(class_names)\n",
    "\n",
    "    # 在图中绘制边界框\n",
    "    yolo_utils.draw_boxes(image, out_scores, out_boxes, out_classes, class_names, colors)\n",
    "\n",
    "    # 保存已经绘制了边界框的图\n",
    "    image.save(os.path.join('out', image_file), quality=100)\n",
    "    #打印出已经绘制了边界框的图\n",
    "    if is_plot:\n",
    "        output_image = plt.imread(os.path.join(\"out\", image_file))\n",
    "        plt.imshow(output_image)\n",
    "\n",
    "    return out_scores, out_boxes, out_classes"
   ],
   "metadata": {
    "collapsed": false,
    "pycharm": {
     "name": "#%%\n"
    }
   }
  },
  {
   "cell_type": "code",
   "execution_count": 24,
   "outputs": [
    {
     "name": "stdout",
     "output_type": "stream",
     "text": [
      "在0072.jpg中找到了6个锚框。\n",
      "traffic light 0.61 (535, 65) (572, 111)\n",
      "traffic light 0.62 (378, 91) (406, 148)\n",
      "car 0.62 (291, 301) (357, 351)\n",
      "truck 0.64 (1049, 263) (1280, 399)\n",
      "car 0.64 (0, 331) (84, 449)\n",
      "car 0.66 (368, 292) (450, 357)\n"
     ]
    },
    {
     "data": {
      "text/plain": "<Figure size 432x288 with 1 Axes>",
      "image/png": "[encoded data removed]"
     },
     "metadata": {
      "needs_background": "light"
     },
     "output_type": "display_data"
    }
   ],
   "source": [
    "out_scores, out_boxes, out_classes = predict(sess, '0072.jpg')"
   ],
   "metadata": {
    "collapsed": false,
    "pycharm": {
     "name": "#%%\n"
    }
   }
  },
  {
   "cell_type": "code",
   "execution_count": null,
   "outputs": [],
   "source": [
    "# 批量绘制图\n",
    "\n",
    "for i in range(1,121):\n",
    "\n",
    "    #计算需要在前面填充几个0\n",
    "    num_fill = int( len(\"0000\") - len(str(1))) + 1\n",
    "    #对索引进行填充\n",
    "    filename = str(i).zfill(num_fill) + \".jpg\"\n",
    "    print(\"当前文件：\" + str(filename))\n",
    "\n",
    "    #开始绘制，不打印信息，不绘制图\n",
    "    out_scores, out_boxes, out_classes = predict(sess, filename,is_show_info=False,is_plot=False)\n",
    "\n",
    "\n",
    "\n",
    "print(\"绘制完成！\")"
   ],
   "metadata": {
    "collapsed": false,
    "pycharm": {
     "name": "#%%\n"
    }
   }
  }
 ],
 "metadata": {
  "kernelspec": {
   "display_name": "Python 3",
   "language": "python",
   "name": "python3"
  },
  "language_info": {
   "codemirror_mode": {
    "name": "ipython",
    "version": 2
   },
   "file_extension": ".py",
   "mimetype": "text/x-python",
   "name": "python",
   "nbconvert_exporter": "python",
   "pygments_lexer": "ipython2",
   "version": "2.7.6"
  }
 },
 "nbformat": 4,
 "nbformat_minor": 0
}