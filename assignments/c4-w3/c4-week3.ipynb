{
 "cells": [
  {
   "cell_type": "code",
   "execution_count": 2,
   "metadata": {
    "collapsed": true
   },
   "outputs": [],
   "source": [
    "import argparse\n",
    "import os\n",
    "import matplotlib.pyplot as plt\n",
    "from matplotlib.pyplot import imshow\n",
    "import scipy.io\n",
    "import scipy.misc\n",
    "import numpy as np\n",
    "import pandas as pd\n",
    "import PIL\n",
    "import tensorflow as tf\n",
    "from tensorflow.keras import backend as K\n",
    "from tensorflow.keras.layers import Input, Lambda, Conv2D\n",
    "from tensorflow.keras.models import load_model, Model"
   ]
  },
  {
   "cell_type": "code",
   "execution_count": 7,
   "outputs": [],
   "source": [
    "from yad2k.models.keras_yolo import yolo_head, yolo_boxes_to_corners, preprocess_true_boxes, yolo_loss, yolo_body\n",
    "\n",
    "import yolo_utils"
   ],
   "metadata": {
    "collapsed": false,
    "pycharm": {
     "name": "#%%\n"
    }
   }
  },
  {
   "cell_type": "code",
   "execution_count": 11,
   "outputs": [
    {
     "name": "stdout",
     "output_type": "stream",
     "text": [
      "[[67 73 29 75 14]\n",
      " [31 11  3 19 64]\n",
      " [73 11 17  9 72]\n",
      " ...\n",
      " [70 36 74 15 52]\n",
      " [14 24 53 37  5]\n",
      " [66 77 46 16 58]]\n",
      "(361, 5)\n"
     ]
    }
   ],
   "source": [
    "a = np.random.randn(19*19,5,1) #p_c\n",
    "b = np.random.randn(19*19,5,80) #c_1 ~ c_80\n",
    "c = a * b #计算后的维度将会是(19x19,5,80)\n",
    "index = c.argmax(axis=-1)\n",
    "print(index)\n",
    "print(index.shape)"
   ],
   "metadata": {
    "collapsed": false,
    "pycharm": {
     "name": "#%%\n"
    }
   }
  },
  {
   "cell_type": "code",
   "execution_count": null,
   "outputs": [],
   "source": [
    "# 分类阈值过滤\n",
    "def yolo_filter_boxes(box_confidence, boxes, box_class_probs, threshold=0.6):\n",
    "    \"\"\"\n",
    "    通过阈值来过滤对象和分类的置信度。\n",
    "    Args:\n",
    "        box_confidence: tensor类型，维度为（19,19,5,1）,包含19x19单元格中每个单元格预测的5个锚框中的所有的锚框的pc （一些对象的置信概率）。\n",
    "        boxes: tensor类型，维度为(19,19,5,4)，包含了所有的锚框的（px,py,ph,pw ）。\n",
    "        box_class_probs: tensor类型，维度为(19,19,5,80)，包含了所有单元格中所有锚框的所有对象( c1,c2,c3，···，c80 )检测的概率。\n",
    "        threshold: 实数，阈值，如果分类预测的概率高于它，那么这个分类预测的概率就会被保留。\n",
    "\n",
    "    Returns:\n",
    "        scores - tensor 类型，维度为(None,)，包含了保留了的锚框的分类概率。\n",
    "        boxes - tensor 类型，维度为(None,4)，包含了保留了的锚框的(b_x, b_y, b_h, b_w)\n",
    "        classes - tensor 类型，维度为(None,)，包含了保留了的锚框的索引\n",
    "    Notes：\"None\"是因为你不知道所选框的确切数量，因为它取决于阈值。\n",
    "          比如：如果有10个锚框，scores的实际输出大小将是（10,）\n",
    "    \"\"\"\n",
    "    # step1: 计算锚框的得分\n",
    "    box_scores = box_confidence * box_class_probs\n",
    "\n",
    "    # step2: 找到最大值的锚框的索引以及对应的最大值的锚框的分数\n",
    "    box_classes = K.argmax(box_scores, axis=-1)\n",
    "    box_class_scores = K.max(box_scores, axis=-1)\n",
    "\n",
    "    # step3: 根据阈值创建掩码\n",
    "    filtering_mask = (box_class_scores >= threshold) # 如执行下列操作：[0.9, 0.3, 0.4, 0.5, 0.1] < 0.4，返回的是[False, True, False, False, True]\n",
    "\n",
    "    # 对scores, boxes 以及 classes使用掩码\n",
    "    scores = tf.boolean_mask()"
   ],
   "metadata": {
    "collapsed": false,
    "pycharm": {
     "name": "#%%\n"
    }
   }
  }
 ],
 "metadata": {
  "kernelspec": {
   "display_name": "Python 3",
   "language": "python",
   "name": "python3"
  },
  "language_info": {
   "codemirror_mode": {
    "name": "ipython",
    "version": 2
   },
   "file_extension": ".py",
   "mimetype": "text/x-python",
   "name": "python",
   "nbconvert_exporter": "python",
   "pygments_lexer": "ipython2",
   "version": "2.7.6"
  }
 },
 "nbformat": 4,
 "nbformat_minor": 0
}