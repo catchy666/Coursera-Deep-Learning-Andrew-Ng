{
 "cells": [
  {
   "cell_type": "markdown",
   "metadata": {
    "collapsed": true,
    "pycharm": {
     "name": "#%% md\n"
    }
   },
   "source": [
    "## 第一部分 - 人脸识别\n",
    "\n",
    "人脸识别系统通常被分为两大类：\n",
    "\n",
    "- **人脸验证：**“这是不是本人呢？”，比如说，在某些机场你能够让系统扫描您的面部并验证您是否为本人从而使得您免人工检票通过海关，又或者某些手机能够使用人脸解锁功能。这些都是1：1匹配问题。\n",
    "\n",
    "- **人脸识别：**“这个人是谁？”，比如说，在视频中的百度员工进入办公室时的脸部识别视频的介绍，无需使用另外的ID卡。这个是1：K的匹配问题。\n",
    "\n",
    "FaceNet可以将人脸图像编码为一个128位数字的向量从而进行学习，通过比较两个这样的向量，那么我们就可以确定这两张图片是否是属于同一个人。"
   ]
  },
  {
   "cell_type": "code",
   "execution_count": 4,
   "outputs": [],
   "source": [
    "from tensorflow.keras.models import Sequential\n",
    "from tensorflow.keras.layers import Conv2D, ZeroPadding2D, Activation, Input, concatenate\n",
    "from tensorflow.keras.models import Model\n",
    "from tensorflow.keras.layers import BatchNormalization, MaxPooling2D, AveragePooling2D, Concatenate\n",
    "from tensorflow.keras.layers import Lambda, Flatten, Dense\n",
    "from tensorflow.keras import backend as K\n",
    "from tensorflow.keras.initializers import glorot_uniform\n",
    "from tensorflow.python.keras.engine import Layer"
   ],
   "metadata": {
    "collapsed": false,
    "pycharm": {
     "name": "#%%\n"
    }
   }
  },
  {
   "cell_type": "code",
   "execution_count": 5,
   "outputs": [],
   "source": [
    "K.set_image_data_format('channels_first')\n",
    "\n",
    "import time\n",
    "import cv2\n",
    "import os\n",
    "import numpy as np\n",
    "from numpy import genfromtxt\n",
    "import pandas as pd\n",
    "import tensorflow as tf\n",
    "import fr_utils\n",
    "from inception_blocks_v2 import *"
   ],
   "metadata": {
    "collapsed": false,
    "pycharm": {
     "name": "#%%\n"
    }
   }
  },
  {
   "cell_type": "markdown",
   "source": [
    "### 1 - 将人脸图像编码为128位的向量\n",
    "#### 1.1 - 使用卷积网络来进行编码"
   ],
   "metadata": {
    "collapsed": false,
    "pycharm": {
     "name": "#%% md\n"
    }
   }
  },
  {
   "cell_type": "code",
   "execution_count": 6,
   "outputs": [
    {
     "name": "stdout",
     "output_type": "stream",
     "text": [
      "参数数量： 3743280\n"
     ]
    }
   ],
   "source": [
    "# 获取模型\n",
    "FRmodel = faceRecoModel(input_shape=(3, 96, 96))\n",
    "\n",
    "#打印模型的总参数数量\n",
    "print(\"参数数量： {}\".format(FRmodel.count_params()))"
   ],
   "metadata": {
    "collapsed": false,
    "pycharm": {
     "name": "#%%\n"
    }
   }
  },
  {
   "cell_type": "markdown",
   "source": [
    "通过使用128神经元全连接层作为最后一层，\n",
    "该模型确保输出是大小为128的编码向量，然后比较两个人脸图像的编码\n",
    "\n",
    "因此，如果满足下面两个条件的话，编码是一个比较好的方法：\n",
    "\n",
    "- 同一个人的两个图像的编码非常相似。\n",
    "- 两个不同人物的图像的编码非常不同。\n",
    "\n",
    "#### 1.2 - 三元组损失函数"
   ],
   "metadata": {
    "collapsed": false,
    "pycharm": {
     "name": "#%% md\n"
    }
   }
  },
  {
   "cell_type": "code",
   "execution_count": 7,
   "outputs": [],
   "source": [
    "def triplet_loss(y_true, y_pred, alpha=0.2):\n",
    "    \"\"\"\n",
    "    实现三元组损失函数\n",
    "    Args:\n",
    "        y_true: true标签，当你在Keras里定义了一个损失函数的时候需要它，但是这里不需要。\n",
    "        y_pred:列表类型，包含了如下参数：\n",
    "            anchor -- 给定的“anchor”图像的编码，维度为(None,128)\n",
    "            positive -- “positive”图像的编码，维度为(None,128)\n",
    "            negative -- “negative”图像的编码，维度为(None,128)\n",
    "\n",
    "        alpha: 超参数，阈值\n",
    "\n",
    "    Returns:\n",
    "            loss -- 实数，损失的值\n",
    "    \"\"\"\n",
    "        #获取anchor, positive, negative的图像编码\n",
    "    anchor, positive, negative = y_pred[0], y_pred[1], y_pred[2]\n",
    "\n",
    "    #第一步：计算\"anchor\" 与 \"positive\"之间编码的距离，这里需要使用axis=-1\n",
    "    pos_dist = tf.reduce_sum(tf.square(tf.subtract(anchor, positive)), axis=-1)\n",
    "\n",
    "    #第二步：计算\"anchor\" 与 \"negative\"之间编码的距离，这里需要使用axis=-1\n",
    "    neg_dist = tf.reduce_sum(tf.square(tf.subtract(anchor, negative)), axis=-1)\n",
    "\n",
    "    #第三步：减去之前的两个距离，然后加上alpha\n",
    "    basic_loss = tf.add(tf.subtract(pos_dist, neg_dist), alpha)\n",
    "\n",
    "    #通过取带零的最大值和对训练样本的求和来计算整个公式\n",
    "    loss = tf.reduce_sum(tf.maximum(basic_loss, 0))\n",
    "\n",
    "    return loss"
   ],
   "metadata": {
    "collapsed": false,
    "pycharm": {
     "name": "#%%\n"
    }
   }
  },
  {
   "cell_type": "code",
   "execution_count": 8,
   "outputs": [
    {
     "name": "stdout",
     "output_type": "stream",
     "text": [
      "loss = 528.142578125\n"
     ]
    }
   ],
   "source": [
    "with tf.Session() as test:\n",
    "    tf.set_random_seed(1)\n",
    "    y_true = (None, None, None)\n",
    "    y_pred = (tf.random_normal([3, 128], mean=6, stddev=0.1, seed=1),\n",
    "              tf.random_normal([3, 128], mean=1, stddev=1, seed= 1),\n",
    "              tf.random_normal([3, 128], mean=3, stddev=4, seed=1))\n",
    "    loss = triplet_loss(y_true, y_pred)\n",
    "\n",
    "    print(\"loss = {}\".format(loss.eval()))"
   ],
   "metadata": {
    "collapsed": false,
    "pycharm": {
     "name": "#%%\n"
    }
   }
  },
  {
   "cell_type": "markdown",
   "source": [
    "### 2 - 加载训练好了的模型"
   ],
   "metadata": {
    "collapsed": false,
    "pycharm": {
     "name": "#%% md\n"
    }
   }
  },
  {
   "cell_type": "code",
   "execution_count": 9,
   "outputs": [
    {
     "name": "stdout",
     "output_type": "stream",
     "text": [
      "执行了：1分23秒\n"
     ]
    }
   ],
   "source": [
    "#开始时间\n",
    "start_time = time.perf_counter()\n",
    "\n",
    "#编译模型\n",
    "FRmodel.compile(optimizer='adam', loss=triplet_loss, metrics=['accuracy'])\n",
    "\n",
    "#加载权值\n",
    "fr_utils.load_weights_from_FaceNet(FRmodel)\n",
    "\n",
    "#结束时间\n",
    "end_time = time.perf_counter()\n",
    "\n",
    "#计算时差\n",
    "minium = end_time - start_time\n",
    "\n",
    "print(\"执行了：{}分{}秒\".format(int(minium / 60), int(minium % 60)))"
   ],
   "metadata": {
    "collapsed": false,
    "pycharm": {
     "name": "#%%\n"
    }
   }
  },
  {
   "cell_type": "markdown",
   "source": [
    "### 3 - 模型的应用\n",
    "#### 3.1 - 人脸验证\n",
    "\n",
    "我们构建一个数据库，里面包含了允许进入的人员的编码向量，我\n",
    "们使用`fr_uitls.img_to_encoding(image_path, model)`函数来生成编码，它会根据图像来进行模型的前向传播。\n",
    "\n",
    "我们这里的数据库使用的是一个字典来表示，这个字典将每个人的名字映射到他们面部的128维编码。"
   ],
   "metadata": {
    "collapsed": false,
    "pycharm": {
     "name": "#%% md\n"
    }
   }
  },
  {
   "cell_type": "code",
   "execution_count": 10,
   "outputs": [],
   "source": [
    "database = {}\n",
    "persons = ['danielle', 'younes', 'tian',\n",
    "           'andrew', 'kian', 'dan',\n",
    "           'sebastiano', 'bertrand', 'kevin',\n",
    "           'felix', 'benoit', 'arnaud']\n",
    "\n",
    "for p in persons:\n",
    "    if p == 'danielle':\n",
    "        database[p] = fr_utils.img_to_encoding(os.path.join('images', \"{}.png\".format(p)), FRmodel)\n",
    "    else:\n",
    "        database[p] = fr_utils.img_to_encoding(os.path.join('images', \"{}.jpg\".format(p)), FRmodel)"
   ],
   "metadata": {
    "collapsed": false,
    "pycharm": {
     "name": "#%%\n"
    }
   }
  },
  {
   "cell_type": "code",
   "execution_count": 11,
   "outputs": [],
   "source": [
    "def verify(image_path, identity, database, model):\n",
    "    \"\"\"\n",
    "    对“identity”与“image_path”的编码进行验证。\n",
    "    Args:\n",
    "        image_path: 摄像头的图片。\n",
    "        identity: 字符类型，想要验证的人的名字。\n",
    "        database: 字典类型，包含了成员的名字信息与对应的编码。\n",
    "        model:在Keras的模型的实例。\n",
    "\n",
    "    Returns:\n",
    "        dist -- 摄像头的图片与数据库中的图片的编码的差距。\n",
    "        is_open_door -- boolean,是否该开门。\n",
    "    \"\"\"\n",
    "    #step 1 ：计算图像的编码，使用fr_utils.img_to_encoding()来计算。\n",
    "    encoding = fr_utils.img_to_encoding(image_path, model)\n",
    "\n",
    "    #step 2 ：计算与数据库中保存的编码的差距\n",
    "    dist = np.linalg.norm(encoding - database[identity])\n",
    "\n",
    "    #step 3 ：判断是否打开门\n",
    "    if dist < 0.7:\n",
    "        print(\"欢迎{}回家！\".format(identity))\n",
    "        is_open_door = True\n",
    "    else:\n",
    "        print(\"经验证，您不是{}!\".format(identity))\n",
    "        is_open_door = False\n",
    "    return dist, is_open_door"
   ],
   "metadata": {
    "collapsed": false,
    "pycharm": {
     "name": "#%%\n"
    }
   }
  },
  {
   "cell_type": "code",
   "execution_count": 12,
   "outputs": [
    {
     "name": "stdout",
     "output_type": "stream",
     "text": [
      "欢迎younes回家！\n"
     ]
    },
    {
     "data": {
      "text/plain": "(0.66714, True)"
     },
     "execution_count": 12,
     "metadata": {},
     "output_type": "execute_result"
    }
   ],
   "source": [
    "verify(\"images/camera_0.jpg\", \"younes\", database, FRmodel)"
   ],
   "metadata": {
    "collapsed": false,
    "pycharm": {
     "name": "#%%\n"
    }
   }
  },
  {
   "cell_type": "code",
   "execution_count": 21,
   "outputs": [
    {
     "name": "stdout",
     "output_type": "stream",
     "text": [
      "经验证，您不是kian!\n"
     ]
    },
    {
     "data": {
      "text/plain": "(0.8586887, False)"
     },
     "execution_count": 21,
     "metadata": {},
     "output_type": "execute_result"
    }
   ],
   "source": [
    "verify(\"images/camera_2.jpg\", \"kian\", database, FRmodel)"
   ],
   "metadata": {
    "collapsed": false,
    "pycharm": {
     "name": "#%%\n"
    }
   }
  },
  {
   "cell_type": "code",
   "execution_count": 22,
   "outputs": [],
   "source": [
    "#### 3.2 - 人脸识别"
   ],
   "metadata": {
    "collapsed": false,
    "pycharm": {
     "name": "#%%\n"
    }
   }
  },
  {
   "cell_type": "code",
   "execution_count": 23,
   "outputs": [],
   "source": [
    "def who_is_it(image_path, database,model):\n",
    "    \"\"\"\n",
    "    根据指定的图片来进行人脸识别\n",
    "    Args:\n",
    "        image_path: 图像地址\n",
    "        database: 包含了名字与编码的字典\n",
    "        model: 在Keras中的模型的实例。\n",
    "\n",
    "    Returns:\n",
    "        min_dist -- 在数据库中与指定图像最相近的编码。\n",
    "        identity -- 字符串类型，与min_dist编码相对应的名字。\n",
    "    \"\"\"\n",
    "    #step 1：计算指定图像的编码，使用fr_utils.img_to_encoding()来计算。\n",
    "    encoding = fr_utils.img_to_encoding(image_path, model)\n",
    "\n",
    "    #step 2 ：找到最相近的编码\n",
    "    ## 初始化min_dist变量为足够大的数字，这里设置为100\n",
    "    min_dist = 100\n",
    "\n",
    "    ## 遍历数据库找到最相近的编码\n",
    "    for (name, db_enc) in database.items():\n",
    "        ### 计算目标编码与当前数据库编码之间的L2差距。\n",
    "        dist = np.linalg.norm(encoding - db_enc)\n",
    "\n",
    "        ### 如果差距小于min_dist，那么就更新名字与编码到identity与min_dist中。\n",
    "        if dist < min_dist:\n",
    "            min_dist = dist\n",
    "            identity = name\n",
    "\n",
    "    # 判断是否在数据库中\n",
    "    if min_dist > 0.7:\n",
    "        print(\"抱歉，您的信息不在数据库中。\")\n",
    "\n",
    "    else:\n",
    "        print(\"姓名 {}  差距：{}\".format(identity, min_dist))\n",
    "\n",
    "    return min_dist, identity"
   ],
   "metadata": {
    "collapsed": false,
    "pycharm": {
     "name": "#%%\n"
    }
   }
  },
  {
   "cell_type": "code",
   "execution_count": 24,
   "outputs": [
    {
     "name": "stdout",
     "output_type": "stream",
     "text": [
      "姓名 younes  差距：0.667140007019043\n"
     ]
    },
    {
     "data": {
      "text/plain": "(0.66714, 'younes')"
     },
     "execution_count": 24,
     "metadata": {},
     "output_type": "execute_result"
    }
   ],
   "source": [
    "who_is_it(\"images/camera_0.jpg\", database, FRmodel)"
   ],
   "metadata": {
    "collapsed": false,
    "pycharm": {
     "name": "#%%\n"
    }
   }
  },
  {
   "cell_type": "code",
   "execution_count": null,
   "outputs": [],
   "source": [],
   "metadata": {
    "collapsed": false,
    "pycharm": {
     "name": "#%%\n"
    }
   }
  }
 ],
 "metadata": {
  "kernelspec": {
   "display_name": "Python 3",
   "language": "python",
   "name": "python3"
  },
  "language_info": {
   "codemirror_mode": {
    "name": "ipython",
    "version": 2
   },
   "file_extension": ".py",
   "mimetype": "text/x-python",
   "name": "python",
   "nbconvert_exporter": "python",
   "pygments_lexer": "ipython2",
   "version": "2.7.6"
  }
 },
 "nbformat": 4,
 "nbformat_minor": 0
}