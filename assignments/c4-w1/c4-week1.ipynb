{
 "cells": [
  {
   "cell_type": "markdown",
   "metadata": {
    "collapsed": true,
    "pycharm": {
     "name": "#%% md\n"
    }
   },
   "source": [
    "### 1. 神经网络的底层搭建\n",
    "原生代码实现可参照：[https://blog.csdn.net/u013733326/article/details/80086090](https://blog.csdn.net/u013733326/article/details/80086090)\n",
    "\n",
    "下面用TensorFlow实现手势识别：\n",
    "\n",
    "-----\n",
    "\n",
    "### 2 神经网络的应用\n",
    "-----"
   ]
  },
  {
   "cell_type": "code",
   "execution_count": 1,
   "outputs": [],
   "source": [
    "import math\n",
    "import numpy as np\n",
    "import h5py\n",
    "import matplotlib.pyplot as plt\n",
    "import matplotlib.image as mpimg\n",
    "import tensorflow as tf\n",
    "from tensorflow.python.framework import ops\n",
    "\n",
    "import cnn_utils\n",
    "\n",
    "%matplotlib inline\n",
    "np.random.seed(1)"
   ],
   "metadata": {
    "collapsed": false,
    "pycharm": {
     "name": "#%%\n"
    }
   }
  },
  {
   "cell_type": "code",
   "execution_count": 2,
   "outputs": [
    {
     "name": "stdout",
     "output_type": "stream",
     "text": [
      "y = 1\n"
     ]
    },
    {
     "data": {
      "text/plain": "<Figure size 432x288 with 1 Axes>",
      "image/png": "[encoded data removed]"
     },
     "metadata": {
      "needs_background": "light"
     },
     "output_type": "display_data"
    }
   ],
   "source": [
    "X_train_orig, Y_train_orig, X_test_orig, Y_test_orig, classes = cnn_utils.load_dataset()\n",
    "\n",
    "index = 7\n",
    "plt.imshow(X_train_orig[index])\n",
    "print(\"y = {}\".format(np.squeeze(Y_train_orig[:, index])))"
   ],
   "metadata": {
    "collapsed": false,
    "pycharm": {
     "name": "#%%\n"
    }
   }
  },
  {
   "cell_type": "code",
   "execution_count": 3,
   "outputs": [
    {
     "name": "stdout",
     "output_type": "stream",
     "text": [
      "number of training examples = 1080\n",
      "number of test examples = 120\n",
      "X_train shape: (1080, 64, 64, 3)\n",
      "Y_train shape: (1080, 6)\n",
      "X_test shape: (120, 64, 64, 3)\n",
      "Y_test shape: (120, 6)\n"
     ]
    }
   ],
   "source": [
    "X_train, X_test = X_train_orig / 255., X_test_orig / 255.\n",
    "Y_train, Y_test = cnn_utils.convert_to_one_hot(Y_train_orig, len(classes)).T, cnn_utils.convert_to_one_hot(Y_test_orig, len(classes)).T\n",
    "\n",
    "print (\"number of training examples = \" + str(X_train.shape[0]))\n",
    "print (\"number of test examples = \" + str(X_test.shape[0]))\n",
    "print (\"X_train shape: \" + str(X_train.shape))\n",
    "print (\"Y_train shape: \" + str(Y_train.shape))\n",
    "print (\"X_test shape: \" + str(X_test.shape))\n",
    "print (\"Y_test shape: \" + str(Y_test.shape))\n",
    "conv_layers = {}"
   ],
   "metadata": {
    "collapsed": false,
    "pycharm": {
     "name": "#%%\n"
    }
   }
  },
  {
   "cell_type": "code",
   "execution_count": 4,
   "outputs": [],
   "source": [
    "def create_placeholders(n_H0, n_W0, n_C0, n_y):\n",
    "    \"\"\"\n",
    "    为session创建占位符\n",
    "\n",
    "    :param n_H0: 实数，输入图像的高度\n",
    "    :param n_W0: 实数，输入图像的宽度\n",
    "    :param n_C0: 实数，输入的通道数\n",
    "    :param n_y: 实数，分类数\n",
    "    :return:\n",
    "        X - 输入数据的占位符，维度为[None, n_H0, n_W0, n_C0]，类型为\"float\"\n",
    "        Y - 输入数据的标签的占位符，维度为[None, n_y]，维度为\"float\"\n",
    "    \"\"\"\n",
    "    X = tf.placeholder(tf.float32, [None, n_H0, n_W0, n_C0])\n",
    "    Y = tf.placeholder(tf.float32, [None, n_y])\n",
    "    return X, Y"
   ],
   "metadata": {
    "collapsed": false,
    "pycharm": {
     "name": "#%%\n"
    }
   }
  },
  {
   "cell_type": "code",
   "execution_count": 5,
   "outputs": [
    {
     "name": "stdout",
     "output_type": "stream",
     "text": [
      "X = Tensor(\"Placeholder:0\", shape=(?, 64, 64, 3), dtype=float32)\n",
      "Y = Tensor(\"Placeholder_1:0\", shape=(?, 6), dtype=float32)\n"
     ]
    }
   ],
   "source": [
    "# 测试一下\n",
    "X, Y = create_placeholders(64, 64, 3, 6)\n",
    "print (\"X = \" + str(X))\n",
    "print (\"Y = \" + str(Y))"
   ],
   "metadata": {
    "collapsed": false,
    "pycharm": {
     "name": "#%%\n"
    }
   }
  },
  {
   "cell_type": "code",
   "execution_count": 6,
   "outputs": [],
   "source": [
    "def initialize_parameters():\n",
    "    \"\"\"\n",
    "    初始化权值矩阵，这里我们把权值矩阵硬编码\n",
    "    W1 : [4, 4, 3, 8]\n",
    "    W2 : [2, 2, 8, 16]\n",
    "\n",
    "    :return:\n",
    "        包含了tensor类型的W1、W2的字典\n",
    "    \"\"\"\n",
    "    tf.set_random_seed(1)\n",
    "\n",
    "    W1 = tf.get_variable(\"W1\", [4, 4, 3, 8], initializer=tf.initializers.glorot_uniform(seed=0))\n",
    "    W2 = tf.get_variable(\"W2\", [2, 2, 8, 16], initializer=tf.initializers.glorot_uniform(seed=0))\n",
    "\n",
    "    parameters = {\"W1\": W1,\n",
    "                  \"W2\": W2}\n",
    "\n",
    "    return parameters"
   ],
   "metadata": {
    "collapsed": false,
    "pycharm": {
     "name": "#%%\n"
    }
   }
  },
  {
   "cell_type": "code",
   "execution_count": 7,
   "outputs": [
    {
     "name": "stdout",
     "output_type": "stream",
     "text": [
      "W1 = [ 0.00131723  0.1417614  -0.04434952  0.09197326  0.14984085 -0.03514394\n",
      " -0.06847463  0.05245192]\n",
      "W2 = [-0.08566415  0.17750949  0.11974221  0.16773748 -0.0830943  -0.08058\n",
      " -0.00577033 -0.14643836  0.24162132 -0.05857408 -0.19055021  0.1345228\n",
      " -0.22779644 -0.1601823  -0.16117483 -0.10286498]\n"
     ]
    }
   ],
   "source": [
    "tf.reset_default_graph()\n",
    "with tf.Session() as sess_test:\n",
    "    parameters = initialize_parameters()\n",
    "    init = tf.global_variables_initializer()\n",
    "    sess_test.run(init)\n",
    "    print(\"W1 = \" + str(parameters[\"W1\"].eval()[1,1,1]))\n",
    "    print(\"W2 = \" + str(parameters[\"W2\"].eval()[1,1,1]))\n",
    "\n",
    "    sess_test.close()"
   ],
   "metadata": {
    "collapsed": false,
    "pycharm": {
     "name": "#%%\n"
    }
   }
  },
  {
   "cell_type": "code",
   "execution_count": 8,
   "outputs": [],
   "source": [
    "def forward_propagation(X, parameters):\n",
    "    \"\"\"\n",
    "    实现前向传播\n",
    "    CONV2D -> RELU -> MAXPOOL -> CONV2D -> RELU -> MAXPOOL -> FLATTEN -> FULLYCONNECTED\n",
    "    :param X: 输入数据的placeholder，维度为(输入节点数量，样本数量)\n",
    "    :param parameters: 包含了“W1”和“W2”的python字典。\n",
    "    :return:\n",
    "        Z3 - 最后一个LINEAR节点的输出\n",
    "    \"\"\"\n",
    "    W1 = parameters['W1']\n",
    "    W2 = parameters['W2']\n",
    "\n",
    "    # Conv2d : 步伐：1，填充方式：“SAME”\n",
    "    Z1 = tf.nn.conv2d(X, W1, strides=[1, 1, 1, 1], padding='SAME')\n",
    "    # ReLU:\n",
    "    A1 = tf.nn.relu(Z1)\n",
    "    # Max pool: 窗口大小：8x8，步伐：8x8，填充方式：“SAME”\n",
    "    P1 = tf.nn.max_pool(A1, ksize=[1, 8, 8, 1], strides=[1, 8, 8, 1], padding='SAME')\n",
    "\n",
    "    # Conv2d : 步伐：1，填充方式：“SAME”\n",
    "    Z2 = tf.nn.conv2d(P1, W2, strides=[1, 1, 1, 1], padding='SAME')\n",
    "    # ReLU:\n",
    "    A2 = tf.nn.relu(Z2)\n",
    "    # Max pool : 过滤器大小：4x4，步伐：4x4，填充方式：“SAME”\n",
    "    P2 = tf.nn.max_pool(A2, ksize=[1, 4, 4, 1], strides=[1, 4, 4, 1], padding=\"SAME\")\n",
    "\n",
    "    # 一维化上一层的输出\n",
    "    P = tf.layers.flatten(P2)\n",
    "\n",
    "    # 全连接层（FC）：使用没有非线性激活函数的全连接层\n",
    "    Z3 = tf.layers.dense(P, 6, activation=None)\n",
    "    return Z3"
   ],
   "metadata": {
    "collapsed": false,
    "pycharm": {
     "name": "#%%\n"
    }
   }
  },
  {
   "cell_type": "code",
   "execution_count": 9,
   "outputs": [
    {
     "name": "stdout",
     "output_type": "stream",
     "text": [
      "WARNING:tensorflow:From <ipython-input-8-d96b193c9c0f>:28: flatten (from tensorflow.python.layers.core) is deprecated and will be removed in a future version.\n",
      "Instructions for updating:\n",
      "Use keras.layers.flatten instead.\n",
      "WARNING:tensorflow:From F:\\anaconda3\\envs\\tf1\\lib\\site-packages\\tensorflow_core\\python\\layers\\core.py:332: Layer.apply (from tensorflow.python.keras.engine.base_layer) is deprecated and will be removed in a future version.\n",
      "Instructions for updating:\n",
      "Please use `layer.__call__` method instead.\n",
      "WARNING:tensorflow:From <ipython-input-8-d96b193c9c0f>:31: dense (from tensorflow.python.layers.core) is deprecated and will be removed in a future version.\n",
      "Instructions for updating:\n",
      "Use keras.layers.Dense instead.\n",
      "Z3 = [[ 1.4416982  -0.24909675  5.4504995  -0.26189643 -0.2066989   1.3654672 ]\n",
      " [ 1.4070848  -0.02573231  5.0892797  -0.48669893 -0.40940714  1.2624854 ]]\n"
     ]
    }
   ],
   "source": [
    "# 测试一下：\n",
    "\n",
    "tf.reset_default_graph()\n",
    "np.random.seed(1)\n",
    "\n",
    "with tf.Session() as sess_test:\n",
    "    X, Y = create_placeholders(64, 64, 3, 6)\n",
    "    parameters = initialize_parameters()\n",
    "    Z3 = forward_propagation(X, parameters)\n",
    "\n",
    "    init = tf.global_variables_initializer()\n",
    "    sess_test.run(init)\n",
    "\n",
    "    a = sess_test.run(Z3, feed_dict={X: np.random.randn(2, 64, 64, 3),\n",
    "                                     Y: np.random.randn(2, 6)})\n",
    "    print(\"Z3 = {}\".format(a))\n",
    "    sess_test.close()"
   ],
   "metadata": {
    "collapsed": false,
    "pycharm": {
     "name": "#%%\n"
    }
   }
  },
  {
   "cell_type": "code",
   "execution_count": 10,
   "outputs": [],
   "source": [
    "def compute_cost(Z3, Y):\n",
    "    \"\"\"\n",
    "    计算成本\n",
    "    参数：\n",
    "        Z3 - 正向传播最后一个LINEAR节点的输出，维度为（6，样本数）。\n",
    "        Y - 标签向量的placeholder，和Z3的维度相同\n",
    "\n",
    "    返回：\n",
    "        cost - 计算后的成本\n",
    "\n",
    "    \"\"\"\n",
    "\n",
    "    cost = tf.reduce_mean(tf.nn.softmax_cross_entropy_with_logits_v2(logits=Z3,\n",
    "                                                                  labels=Y))\n",
    "\n",
    "    return cost"
   ],
   "metadata": {
    "collapsed": false,
    "pycharm": {
     "name": "#%%\n"
    }
   }
  },
  {
   "cell_type": "code",
   "execution_count": 11,
   "outputs": [
    {
     "name": "stdout",
     "output_type": "stream",
     "text": [
      "cost = 4.664870262145996\n"
     ]
    }
   ],
   "source": [
    "# 测试一下\n",
    "tf.reset_default_graph()\n",
    "\n",
    "with tf.Session() as sess_test:\n",
    "    np.random.seed(1)\n",
    "    X, Y = create_placeholders(64, 64, 3, 6)\n",
    "    parameters = initialize_parameters()\n",
    "    Z3 = forward_propagation(X, parameters)\n",
    "    cost = compute_cost(Z3, Y)\n",
    "\n",
    "    init = tf.global_variables_initializer()\n",
    "    sess_test.run(init)\n",
    "    a = sess_test.run(cost, feed_dict={X: np.random.randn(4, 64, 64, 3),\n",
    "                                       Y: np.random.randn(4, 6)})\n",
    "    print(\"cost = {}\".format(a))\n",
    "\n",
    "    sess_test.close()"
   ],
   "metadata": {
    "collapsed": false,
    "pycharm": {
     "name": "#%%\n"
    }
   }
  },
  {
   "cell_type": "code",
   "execution_count": 12,
   "outputs": [],
   "source": [
    "def model(X_train, Y_train, X_test, Y_test, learning_rate=0.009,\n",
    "          num_epochs=100, minibatch_size=64, print_cost=True, isPlot=True):\n",
    "    \"\"\"\n",
    "    使用TensorFlow实现三层的卷积神经网络\n",
    "    CONV2D -> RELU -> MAXPOOL -> CONV2D -> RELU -> MAXPOOL -> FLATTEN -> FULLYCONNECTED\n",
    "\n",
    "    :param X_train: 训练数据，维度为(None, 64, 64, 3)\n",
    "    :param Y_train: 训练数据对应的标签，维度为(None, n_y = 6)\n",
    "    :param X_test: 测试数据，维度为(None, 64, 64, 3)\n",
    "    :param Y_test: 测试数据对应的标签，维度为(None, n_y = 6)\n",
    "    :param learning_rate: 学习率\n",
    "    :param num_epochs: 遍历整个数据集的次数\n",
    "    :param minibatch_size: 每个小批量数据块的大小\n",
    "    :param print_cost: 是否打印成本值，每遍历100次整个数据集打印一次\n",
    "    :param isPlot: 是否绘制图谱\n",
    "    :return:\n",
    "        train_accuracy - 实数，训练集的准确度\n",
    "        test_accuracy - 实数，测试集的准确度\n",
    "        parameters - 学习后的参数\n",
    "    \"\"\"\n",
    "    ops.reset_default_graph()  # 能够重新运行模型而不覆盖tf变量\n",
    "    tf.set_random_seed(1)  # 确保你的数据和我一样\n",
    "    seed = 3  # 指定numpy的随机种子\n",
    "    (m, n_H0, n_W0, n_C0) = X_train.shape\n",
    "    n_y = Y_train.shape[1]\n",
    "    costs = []\n",
    "\n",
    "    # 为当前维度创建占位符\n",
    "    X, Y = create_placeholders(n_H0, n_W0, n_C0, n_y)\n",
    "\n",
    "    # 初始化参数\n",
    "    parameters = initialize_parameters()\n",
    "\n",
    "    # 前向传播\n",
    "    Z3 = forward_propagation(X, parameters)\n",
    "\n",
    "    # 计算成本\n",
    "    cost = compute_cost(Z3, Y)\n",
    "\n",
    "    # 反向传播 由于框架已经实现了反向传播，我们只需要选择一个优化器就行了\n",
    "    optimizer = tf.train.AdamOptimizer(learning_rate=learning_rate).minimize(cost)\n",
    "\n",
    "    # 全局初始化所有变量\n",
    "    init = tf.global_variables_initializer()\n",
    "\n",
    "    # 开始运行\n",
    "    with tf.Session() as sess:\n",
    "        # 初始化参数\n",
    "        sess.run(init)\n",
    "\n",
    "        # 开始遍历数据集\n",
    "        for epoch in range(num_epochs):\n",
    "            minibatch_cost = 0\n",
    "            num_minibatches = int(m / minibatch_size)  # 获取数据块的数量\n",
    "            seed = seed + 1\n",
    "            minibatches = cnn_utils.random_mini_batches(X_train, Y_train, minibatch_size, seed)\n",
    "\n",
    "            # 对每个数据块进行处理\n",
    "            for minibatch in minibatches:\n",
    "                # 选择一个数据块\n",
    "                (minibatch_x, minibatch_y) = minibatch\n",
    "                # 最小化这个数据块的成本\n",
    "                _, temp_cost = sess.run([optimizer, cost],\n",
    "                                        feed_dict={\n",
    "                                            X: minibatch_x,\n",
    "                                            Y: minibatch_y\n",
    "                                        })\n",
    "                # 累加数据块的成本值\n",
    "                minibatch_cost += temp_cost / num_minibatches\n",
    "\n",
    "            # 是否打印成本\n",
    "            if print_cost:\n",
    "                # 每5代打印一次\n",
    "                if epoch % 5 == 0:\n",
    "                    print(\"当前是第 {} 代，成本值为：{}\".format(epoch, minibatch_cost))\n",
    "\n",
    "            # 记录成本\n",
    "            if epoch % 1 == 0:\n",
    "                costs.append(minibatch_cost)\n",
    "\n",
    "        # 数据处理完毕，绘制成本曲线\n",
    "        if isPlot:\n",
    "            plt.plot(np.squeeze(costs))\n",
    "            plt.ylabel('cost')\n",
    "            plt.xlabel('iterations (per tens)')\n",
    "            plt.title(\"Learning rate = {}\".format(learning_rate))\n",
    "            plt.show()\n",
    "\n",
    "        # 开始预测数据\n",
    "        ## 计算当前的预测情况\n",
    "        predict_op = tf.arg_max(Z3, 1)\n",
    "        corrent_prediction = tf.equal(predict_op, tf.arg_max(Y, 1))\n",
    "\n",
    "        ## 计算准确度\n",
    "        accuracy = tf.reduce_mean(tf.cast(corrent_prediction, 'float'))\n",
    "        print(\"corrent_prediction accuracy= {}\".format(accuracy))\n",
    "\n",
    "        train_accuracy = accuracy.eval({X: X_train,\n",
    "                                        Y: Y_train})\n",
    "        test_accuracy = accuracy.eval({X: X_test,\n",
    "                                        Y: Y_test})\n",
    "\n",
    "        print(\"训练集准确度：{}\".format(train_accuracy))\n",
    "        print(\"测试集准确度：{}\".format(test_accuracy))\n",
    "\n",
    "        return train_accuracy, test_accuracy, parameters"
   ],
   "metadata": {
    "collapsed": false,
    "pycharm": {
     "name": "#%%\n"
    }
   }
  },
  {
   "cell_type": "code",
   "execution_count": 13,
   "outputs": [
    {
     "name": "stdout",
     "output_type": "stream",
     "text": [
      "当前是第 0 代，成本值为：1.9213323593139648\n",
      "当前是第 5 代，成本值为：1.9041557535529137\n",
      "当前是第 10 代，成本值为：1.9043088406324387\n",
      "当前是第 15 代，成本值为：1.9044771641492844\n",
      "当前是第 20 代，成本值为：1.9018756002187729\n",
      "当前是第 25 代，成本值为：1.7840775027871132\n",
      "当前是第 30 代，成本值为：1.6810519248247147\n",
      "当前是第 35 代，成本值为：1.618206724524498\n",
      "当前是第 40 代，成本值为：1.5979715660214424\n",
      "当前是第 45 代，成本值为：1.5667067170143127\n",
      "当前是第 50 代，成本值为：1.554486371576786\n",
      "当前是第 55 代，成本值为：1.5021868869662285\n",
      "当前是第 60 代，成本值为：1.461034670472145\n",
      "当前是第 65 代，成本值为：1.304477334022522\n",
      "当前是第 70 代，成本值为：1.201501227915287\n",
      "当前是第 75 代，成本值为：1.1442293748259544\n",
      "当前是第 80 代，成本值为：1.0983676128089428\n",
      "当前是第 85 代，成本值为：1.07741105183959\n",
      "当前是第 90 代，成本值为：1.0431732051074505\n",
      "当前是第 95 代，成本值为：1.0235813297331333\n",
      "当前是第 100 代，成本值为：1.0107476897537708\n",
      "当前是第 105 代，成本值为：0.958832249045372\n",
      "当前是第 110 代，成本值为：0.9587796293199062\n",
      "当前是第 115 代，成本值为：0.9571278169751167\n",
      "当前是第 120 代，成本值为：0.9306484311819077\n",
      "当前是第 125 代，成本值为：0.8950737975537777\n",
      "当前是第 130 代，成本值为：0.9239861853420734\n",
      "当前是第 135 代，成本值为：0.8635294400155544\n",
      "当前是第 140 代，成本值为：0.8666736781597137\n",
      "当前是第 145 代，成本值为：0.8278740420937538\n",
      "当前是第 150 代，成本值为：0.8344247005879879\n",
      "当前是第 155 代，成本值为：0.8081000111997128\n",
      "当前是第 160 代，成本值为：0.7893283180892467\n",
      "当前是第 165 代，成本值为：0.7884605266153812\n",
      "当前是第 170 代，成本值为：0.7797991596162319\n",
      "当前是第 175 代，成本值为：0.8353049568831921\n",
      "当前是第 180 代，成本值为：0.830524243414402\n",
      "当前是第 185 代，成本值为：0.78384954854846\n",
      "当前是第 190 代，成本值为：0.7442039586603642\n",
      "当前是第 195 代，成本值为：0.7571513615548611\n",
      "当前是第 200 代，成本值为：0.7573947235941887\n",
      "当前是第 205 代，成本值为：0.7412822395563126\n",
      "当前是第 210 代，成本值为：0.7286926917731762\n",
      "当前是第 215 代，成本值为：0.714353172108531\n",
      "当前是第 220 代，成本值为：0.7116592302918434\n",
      "当前是第 225 代，成本值为：0.7058460786938667\n",
      "当前是第 230 代，成本值为：0.7122764252126217\n",
      "当前是第 235 代，成本值为：0.7488704323768616\n",
      "当前是第 240 代，成本值为：0.6980317011475563\n",
      "当前是第 245 代，成本值为：0.7010502256453037\n",
      "当前是第 250 代，成本值为：0.7177875377237797\n",
      "当前是第 255 代，成本值为：0.7091412004083395\n",
      "当前是第 260 代，成本值为：0.6900224722921848\n",
      "当前是第 265 代，成本值为：0.7001665830612183\n",
      "当前是第 270 代，成本值为：0.6792815886437893\n",
      "当前是第 275 代，成本值为：0.6873701103031635\n",
      "当前是第 280 代，成本值为：0.6609656065702438\n",
      "当前是第 285 代，成本值为：0.7082285173237324\n",
      "当前是第 290 代，成本值为：0.6831040978431702\n",
      "当前是第 295 代，成本值为：0.6651055216789246\n",
      "当前是第 300 代，成本值为：0.6763733513653278\n",
      "当前是第 305 代，成本值为：0.6800126954913139\n",
      "当前是第 310 代，成本值为：0.6513327024877071\n",
      "当前是第 315 代，成本值为：0.6541161630302668\n",
      "当前是第 320 代，成本值为：0.6581412460654974\n",
      "当前是第 325 代，成本值为：0.6915996633470058\n",
      "当前是第 330 代，成本值为：0.6504805758595467\n",
      "当前是第 335 代，成本值为：0.642919322475791\n",
      "当前是第 340 代，成本值为：0.6538165435194969\n",
      "当前是第 345 代，成本值为：0.6530922073870897\n",
      "当前是第 350 代，成本值为：0.6444071903824806\n",
      "当前是第 355 代，成本值为：0.6294734627008438\n",
      "当前是第 360 代，成本值为：0.6321479082107544\n",
      "当前是第 365 代，成本值为：0.6343909054994583\n",
      "当前是第 370 代，成本值为：0.6275932006537914\n",
      "当前是第 375 代，成本值为：0.6496190801262856\n",
      "当前是第 380 代，成本值为：0.6248723976314068\n",
      "当前是第 385 代，成本值为：0.6108910143375397\n",
      "当前是第 390 代，成本值为：0.6192085053771734\n",
      "当前是第 395 代，成本值为：0.6115528661757708\n",
      "当前是第 400 代，成本值为：0.6323372628539801\n",
      "当前是第 405 代，成本值为：0.6021699216216803\n",
      "当前是第 410 代，成本值为：0.6169194392859936\n",
      "当前是第 415 代，成本值为：0.6259719710797071\n",
      "当前是第 420 代，成本值为：0.5980782955884933\n",
      "当前是第 425 代，成本值为：0.622312244027853\n",
      "当前是第 430 代，成本值为：0.6135792415589094\n",
      "当前是第 435 代，成本值为：0.6282784957438707\n",
      "当前是第 440 代，成本值为：0.6117976661771536\n",
      "当前是第 445 代，成本值为：0.6071761641651392\n",
      "当前是第 450 代，成本值为：0.6227997541427612\n",
      "当前是第 455 代，成本值为：0.6216365303844213\n",
      "当前是第 460 代，成本值为：0.5972084235399961\n",
      "当前是第 465 代，成本值为：0.5929626002907753\n",
      "当前是第 470 代，成本值为：0.6037263758480549\n",
      "当前是第 475 代，成本值为：0.5865085180848837\n",
      "当前是第 480 代，成本值为：0.6482730247080326\n",
      "当前是第 485 代，成本值为：0.6422912944108248\n",
      "当前是第 490 代，成本值为：0.603571867570281\n",
      "当前是第 495 代，成本值为：0.5771107915788889\n",
      "corrent_prediction accuracy= Tensor(\"Mean_1:0\", shape=(), dtype=float32)\n",
      "训练集准确度：0.7944444417953491\n",
      "测试集准确度：0.6499999761581421\n"
     ]
    },
    {
     "data": {
      "text/plain": "<Figure size 432x288 with 1 Axes>",
      "image/png": "[encoded data removed]"
     },
     "metadata": {
      "needs_background": "light"
     },
     "output_type": "display_data"
    }
   ],
   "source": [
    "_, _, parameters = model(X_train, Y_train, X_test, Y_test, num_epochs=500)"
   ],
   "metadata": {
    "collapsed": false,
    "pycharm": {
     "name": "#%%\n"
    }
   }
  },
  {
   "cell_type": "code",
   "execution_count": 14,
   "outputs": [],
   "source": [],
   "metadata": {
    "collapsed": false,
    "pycharm": {
     "name": "#%%\n"
    }
   }
  }
 ],
 "metadata": {
  "kernelspec": {
   "display_name": "Python 3",
   "language": "python",
   "name": "python3"
  },
  "language_info": {
   "codemirror_mode": {
    "name": "ipython",
    "version": 2
   },
   "file_extension": ".py",
   "mimetype": "text/x-python",
   "name": "python",
   "nbconvert_exporter": "python",
   "pygments_lexer": "ipython2",
   "version": "2.7.6"
  }
 },
 "nbformat": 4,
 "nbformat_minor": 0
}